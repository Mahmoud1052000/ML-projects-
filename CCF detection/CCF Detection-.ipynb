{
 "cells": [
  {
   "cell_type": "markdown",
   "id": "2d2b8574",
   "metadata": {},
   "source": [
    "<h1>About Dataset</h1>\n",
    "\n",
    "\n",
    "It is important that credit card companies are able to recognize fraudulent credit card transactions so that customers are not charged for items that they did not purchase.\n",
    "\n",
    "Content\n",
    "The dataset contains transactions made by credit cards in September 2013 by European cardholders.\n",
    "This dataset presents transactions that occurred in two days, where we have 492 frauds out of 284,807 transactions. The dataset is highly unbalanced, the positive class (frauds) account for 0.172% of all transactions.\n",
    "\n",
    "It contains only numerical input variables which are the result of a PCA transformation. Unfortunately, due to confidentiality issues, we cannot provide the original features and more background information about the data. Features V1, V2, … V28 are the principal components obtained with PCA, the only features which have not been transformed with PCA are 'Time' and 'Amount'. Feature 'Time' contains the seconds elapsed between each transaction and the first transaction in the dataset. The feature 'Amount' is the transaction Amount, this feature can be used for example-dependant cost-sensitive learning. Feature 'Class' is the response variable and it takes value 1 in case of fraud and 0 otherwise.\n"
   ]
  },
  {
   "cell_type": "code",
   "execution_count": 50,
   "id": "f634a463",
   "metadata": {},
   "outputs": [],
   "source": [
    "import numpy as np\n",
    "import pandas as pd\n",
    "from matplotlib import pyplot as plt\n",
    "import seaborn as sns\n",
    "from sklearn.model_selection import train_test_split, cross_val_score\n",
    "from sklearn.preprocessing import LabelEncoder, StandardScaler\n",
    "from sklearn.metrics import  confusion_matrix, classification_report, roc_curve, auc, RocCurveDisplay\n",
    "from sklearn.linear_model import LogisticRegression\n",
    "from sklearn.ensemble import RandomForestClassifier, BaggingClassifier, GradientBoostingClassifier\n",
    "from sklearn.tree import DecisionTreeClassifier\n",
    "from sklearn.neighbors import KNeighborsClassifier\n",
    "from sklearn.svm import SVC\n",
    "from xgboost import XGBClassifier\n",
    "from tpot import TPOTClassifier\n",
    "import joblib \n",
    "import warnings\n",
    "warnings.filterwarnings(\"ignore\")\n",
    "%matplotlib inline"
   ]
  },
  {
   "cell_type": "code",
   "execution_count": 2,
   "id": "da26bbc4",
   "metadata": {},
   "outputs": [
    {
     "data": {
      "text/html": [
       "<div>\n",
       "<style scoped>\n",
       "    .dataframe tbody tr th:only-of-type {\n",
       "        vertical-align: middle;\n",
       "    }\n",
       "\n",
       "    .dataframe tbody tr th {\n",
       "        vertical-align: top;\n",
       "    }\n",
       "\n",
       "    .dataframe thead th {\n",
       "        text-align: right;\n",
       "    }\n",
       "</style>\n",
       "<table border=\"1\" class=\"dataframe\">\n",
       "  <thead>\n",
       "    <tr style=\"text-align: right;\">\n",
       "      <th></th>\n",
       "      <th>Time</th>\n",
       "      <th>V1</th>\n",
       "      <th>V2</th>\n",
       "      <th>V3</th>\n",
       "      <th>V4</th>\n",
       "      <th>V5</th>\n",
       "      <th>V6</th>\n",
       "      <th>V7</th>\n",
       "      <th>V8</th>\n",
       "      <th>V9</th>\n",
       "      <th>...</th>\n",
       "      <th>V21</th>\n",
       "      <th>V22</th>\n",
       "      <th>V23</th>\n",
       "      <th>V24</th>\n",
       "      <th>V25</th>\n",
       "      <th>V26</th>\n",
       "      <th>V27</th>\n",
       "      <th>V28</th>\n",
       "      <th>Amount</th>\n",
       "      <th>Class</th>\n",
       "    </tr>\n",
       "  </thead>\n",
       "  <tbody>\n",
       "    <tr>\n",
       "      <th>0</th>\n",
       "      <td>0.0</td>\n",
       "      <td>-1.359807</td>\n",
       "      <td>-0.072781</td>\n",
       "      <td>2.536347</td>\n",
       "      <td>1.378155</td>\n",
       "      <td>-0.338321</td>\n",
       "      <td>0.462388</td>\n",
       "      <td>0.239599</td>\n",
       "      <td>0.098698</td>\n",
       "      <td>0.363787</td>\n",
       "      <td>...</td>\n",
       "      <td>-0.018307</td>\n",
       "      <td>0.277838</td>\n",
       "      <td>-0.110474</td>\n",
       "      <td>0.066928</td>\n",
       "      <td>0.128539</td>\n",
       "      <td>-0.189115</td>\n",
       "      <td>0.133558</td>\n",
       "      <td>-0.021053</td>\n",
       "      <td>149.62</td>\n",
       "      <td>0</td>\n",
       "    </tr>\n",
       "    <tr>\n",
       "      <th>1</th>\n",
       "      <td>0.0</td>\n",
       "      <td>1.191857</td>\n",
       "      <td>0.266151</td>\n",
       "      <td>0.166480</td>\n",
       "      <td>0.448154</td>\n",
       "      <td>0.060018</td>\n",
       "      <td>-0.082361</td>\n",
       "      <td>-0.078803</td>\n",
       "      <td>0.085102</td>\n",
       "      <td>-0.255425</td>\n",
       "      <td>...</td>\n",
       "      <td>-0.225775</td>\n",
       "      <td>-0.638672</td>\n",
       "      <td>0.101288</td>\n",
       "      <td>-0.339846</td>\n",
       "      <td>0.167170</td>\n",
       "      <td>0.125895</td>\n",
       "      <td>-0.008983</td>\n",
       "      <td>0.014724</td>\n",
       "      <td>2.69</td>\n",
       "      <td>0</td>\n",
       "    </tr>\n",
       "    <tr>\n",
       "      <th>2</th>\n",
       "      <td>1.0</td>\n",
       "      <td>-1.358354</td>\n",
       "      <td>-1.340163</td>\n",
       "      <td>1.773209</td>\n",
       "      <td>0.379780</td>\n",
       "      <td>-0.503198</td>\n",
       "      <td>1.800499</td>\n",
       "      <td>0.791461</td>\n",
       "      <td>0.247676</td>\n",
       "      <td>-1.514654</td>\n",
       "      <td>...</td>\n",
       "      <td>0.247998</td>\n",
       "      <td>0.771679</td>\n",
       "      <td>0.909412</td>\n",
       "      <td>-0.689281</td>\n",
       "      <td>-0.327642</td>\n",
       "      <td>-0.139097</td>\n",
       "      <td>-0.055353</td>\n",
       "      <td>-0.059752</td>\n",
       "      <td>378.66</td>\n",
       "      <td>0</td>\n",
       "    </tr>\n",
       "    <tr>\n",
       "      <th>3</th>\n",
       "      <td>1.0</td>\n",
       "      <td>-0.966272</td>\n",
       "      <td>-0.185226</td>\n",
       "      <td>1.792993</td>\n",
       "      <td>-0.863291</td>\n",
       "      <td>-0.010309</td>\n",
       "      <td>1.247203</td>\n",
       "      <td>0.237609</td>\n",
       "      <td>0.377436</td>\n",
       "      <td>-1.387024</td>\n",
       "      <td>...</td>\n",
       "      <td>-0.108300</td>\n",
       "      <td>0.005274</td>\n",
       "      <td>-0.190321</td>\n",
       "      <td>-1.175575</td>\n",
       "      <td>0.647376</td>\n",
       "      <td>-0.221929</td>\n",
       "      <td>0.062723</td>\n",
       "      <td>0.061458</td>\n",
       "      <td>123.50</td>\n",
       "      <td>0</td>\n",
       "    </tr>\n",
       "    <tr>\n",
       "      <th>4</th>\n",
       "      <td>2.0</td>\n",
       "      <td>-1.158233</td>\n",
       "      <td>0.877737</td>\n",
       "      <td>1.548718</td>\n",
       "      <td>0.403034</td>\n",
       "      <td>-0.407193</td>\n",
       "      <td>0.095921</td>\n",
       "      <td>0.592941</td>\n",
       "      <td>-0.270533</td>\n",
       "      <td>0.817739</td>\n",
       "      <td>...</td>\n",
       "      <td>-0.009431</td>\n",
       "      <td>0.798278</td>\n",
       "      <td>-0.137458</td>\n",
       "      <td>0.141267</td>\n",
       "      <td>-0.206010</td>\n",
       "      <td>0.502292</td>\n",
       "      <td>0.219422</td>\n",
       "      <td>0.215153</td>\n",
       "      <td>69.99</td>\n",
       "      <td>0</td>\n",
       "    </tr>\n",
       "  </tbody>\n",
       "</table>\n",
       "<p>5 rows × 31 columns</p>\n",
       "</div>"
      ],
      "text/plain": [
       "   Time        V1        V2        V3        V4        V5        V6        V7  \\\n",
       "0   0.0 -1.359807 -0.072781  2.536347  1.378155 -0.338321  0.462388  0.239599   \n",
       "1   0.0  1.191857  0.266151  0.166480  0.448154  0.060018 -0.082361 -0.078803   \n",
       "2   1.0 -1.358354 -1.340163  1.773209  0.379780 -0.503198  1.800499  0.791461   \n",
       "3   1.0 -0.966272 -0.185226  1.792993 -0.863291 -0.010309  1.247203  0.237609   \n",
       "4   2.0 -1.158233  0.877737  1.548718  0.403034 -0.407193  0.095921  0.592941   \n",
       "\n",
       "         V8        V9  ...       V21       V22       V23       V24       V25  \\\n",
       "0  0.098698  0.363787  ... -0.018307  0.277838 -0.110474  0.066928  0.128539   \n",
       "1  0.085102 -0.255425  ... -0.225775 -0.638672  0.101288 -0.339846  0.167170   \n",
       "2  0.247676 -1.514654  ...  0.247998  0.771679  0.909412 -0.689281 -0.327642   \n",
       "3  0.377436 -1.387024  ... -0.108300  0.005274 -0.190321 -1.175575  0.647376   \n",
       "4 -0.270533  0.817739  ... -0.009431  0.798278 -0.137458  0.141267 -0.206010   \n",
       "\n",
       "        V26       V27       V28  Amount  Class  \n",
       "0 -0.189115  0.133558 -0.021053  149.62      0  \n",
       "1  0.125895 -0.008983  0.014724    2.69      0  \n",
       "2 -0.139097 -0.055353 -0.059752  378.66      0  \n",
       "3 -0.221929  0.062723  0.061458  123.50      0  \n",
       "4  0.502292  0.219422  0.215153   69.99      0  \n",
       "\n",
       "[5 rows x 31 columns]"
      ]
     },
     "execution_count": 2,
     "metadata": {},
     "output_type": "execute_result"
    }
   ],
   "source": [
    "df = pd.read_csv('creditcard.csv')\n",
    "df.head()"
   ]
  },
  {
   "cell_type": "code",
   "execution_count": 3,
   "id": "d93e5ef7",
   "metadata": {},
   "outputs": [
    {
     "name": "stdout",
     "output_type": "stream",
     "text": [
      "this data has  284807 of rows and 31 of columns ..classes in this data is :0    284315\n",
      "1       492\n",
      "Name: Class, dtype: int64 this 284315It represents the number of legitimate transactions and 492 Represent the number of fraudulent transactions\n"
     ]
    }
   ],
   "source": [
    "print(f\"this data has  {df.shape[0]} of rows and {df.shape[1]} of columns ..classes in this data is :{df.Class.value_counts()} this {df.Class.value_counts()[0]}It represents the number of legitimate transactions and {df.Class.value_counts()[1]} Represent the number of fraudulent transactions\")"
   ]
  },
  {
   "cell_type": "markdown",
   "id": "dfbf355f",
   "metadata": {},
   "source": [
    "print (f\" per of legitimate transactions is  {(df.Class.value_counts()[0]/df.shape[0])*100}% and per of of fraudulent transactions is  :{(df.Class.value_counts()[1]/df.shape[0])*100}% \")"
   ]
  },
  {
   "cell_type": "code",
   "execution_count": 4,
   "id": "4c9361e9",
   "metadata": {},
   "outputs": [
    {
     "name": "stdout",
     "output_type": "stream",
     "text": [
      "<class 'pandas.core.frame.DataFrame'>\n",
      "RangeIndex: 284807 entries, 0 to 284806\n",
      "Data columns (total 31 columns):\n",
      " #   Column  Non-Null Count   Dtype  \n",
      "---  ------  --------------   -----  \n",
      " 0   Time    284807 non-null  float64\n",
      " 1   V1      284807 non-null  float64\n",
      " 2   V2      284807 non-null  float64\n",
      " 3   V3      284807 non-null  float64\n",
      " 4   V4      284807 non-null  float64\n",
      " 5   V5      284807 non-null  float64\n",
      " 6   V6      284807 non-null  float64\n",
      " 7   V7      284807 non-null  float64\n",
      " 8   V8      284807 non-null  float64\n",
      " 9   V9      284807 non-null  float64\n",
      " 10  V10     284807 non-null  float64\n",
      " 11  V11     284807 non-null  float64\n",
      " 12  V12     284807 non-null  float64\n",
      " 13  V13     284807 non-null  float64\n",
      " 14  V14     284807 non-null  float64\n",
      " 15  V15     284807 non-null  float64\n",
      " 16  V16     284807 non-null  float64\n",
      " 17  V17     284807 non-null  float64\n",
      " 18  V18     284807 non-null  float64\n",
      " 19  V19     284807 non-null  float64\n",
      " 20  V20     284807 non-null  float64\n",
      " 21  V21     284807 non-null  float64\n",
      " 22  V22     284807 non-null  float64\n",
      " 23  V23     284807 non-null  float64\n",
      " 24  V24     284807 non-null  float64\n",
      " 25  V25     284807 non-null  float64\n",
      " 26  V26     284807 non-null  float64\n",
      " 27  V27     284807 non-null  float64\n",
      " 28  V28     284807 non-null  float64\n",
      " 29  Amount  284807 non-null  float64\n",
      " 30  Class   284807 non-null  int64  \n",
      "dtypes: float64(30), int64(1)\n",
      "memory usage: 67.4 MB\n"
     ]
    }
   ],
   "source": [
    "df.info()"
   ]
  },
  {
   "cell_type": "code",
   "execution_count": 5,
   "id": "26433a79",
   "metadata": {},
   "outputs": [
    {
     "data": {
      "text/html": [
       "<div>\n",
       "<style scoped>\n",
       "    .dataframe tbody tr th:only-of-type {\n",
       "        vertical-align: middle;\n",
       "    }\n",
       "\n",
       "    .dataframe tbody tr th {\n",
       "        vertical-align: top;\n",
       "    }\n",
       "\n",
       "    .dataframe thead th {\n",
       "        text-align: right;\n",
       "    }\n",
       "</style>\n",
       "<table border=\"1\" class=\"dataframe\">\n",
       "  <thead>\n",
       "    <tr style=\"text-align: right;\">\n",
       "      <th></th>\n",
       "      <th>Time</th>\n",
       "      <th>V1</th>\n",
       "      <th>V2</th>\n",
       "      <th>V3</th>\n",
       "      <th>V4</th>\n",
       "      <th>V5</th>\n",
       "      <th>V6</th>\n",
       "      <th>V7</th>\n",
       "      <th>V8</th>\n",
       "      <th>V9</th>\n",
       "      <th>...</th>\n",
       "      <th>V21</th>\n",
       "      <th>V22</th>\n",
       "      <th>V23</th>\n",
       "      <th>V24</th>\n",
       "      <th>V25</th>\n",
       "      <th>V26</th>\n",
       "      <th>V27</th>\n",
       "      <th>V28</th>\n",
       "      <th>Amount</th>\n",
       "      <th>Class</th>\n",
       "    </tr>\n",
       "  </thead>\n",
       "  <tbody>\n",
       "    <tr>\n",
       "      <th>count</th>\n",
       "      <td>284807.000000</td>\n",
       "      <td>2.848070e+05</td>\n",
       "      <td>2.848070e+05</td>\n",
       "      <td>2.848070e+05</td>\n",
       "      <td>2.848070e+05</td>\n",
       "      <td>2.848070e+05</td>\n",
       "      <td>2.848070e+05</td>\n",
       "      <td>2.848070e+05</td>\n",
       "      <td>2.848070e+05</td>\n",
       "      <td>2.848070e+05</td>\n",
       "      <td>...</td>\n",
       "      <td>2.848070e+05</td>\n",
       "      <td>2.848070e+05</td>\n",
       "      <td>2.848070e+05</td>\n",
       "      <td>2.848070e+05</td>\n",
       "      <td>2.848070e+05</td>\n",
       "      <td>2.848070e+05</td>\n",
       "      <td>2.848070e+05</td>\n",
       "      <td>2.848070e+05</td>\n",
       "      <td>284807.000000</td>\n",
       "      <td>284807.000000</td>\n",
       "    </tr>\n",
       "    <tr>\n",
       "      <th>mean</th>\n",
       "      <td>94813.859575</td>\n",
       "      <td>3.918649e-15</td>\n",
       "      <td>5.682686e-16</td>\n",
       "      <td>-8.761736e-15</td>\n",
       "      <td>2.811118e-15</td>\n",
       "      <td>-1.552103e-15</td>\n",
       "      <td>2.040130e-15</td>\n",
       "      <td>-1.698953e-15</td>\n",
       "      <td>-1.893285e-16</td>\n",
       "      <td>-3.147640e-15</td>\n",
       "      <td>...</td>\n",
       "      <td>1.473120e-16</td>\n",
       "      <td>8.042109e-16</td>\n",
       "      <td>5.282512e-16</td>\n",
       "      <td>4.456271e-15</td>\n",
       "      <td>1.426896e-15</td>\n",
       "      <td>1.701640e-15</td>\n",
       "      <td>-3.662252e-16</td>\n",
       "      <td>-1.217809e-16</td>\n",
       "      <td>88.349619</td>\n",
       "      <td>0.001727</td>\n",
       "    </tr>\n",
       "    <tr>\n",
       "      <th>std</th>\n",
       "      <td>47488.145955</td>\n",
       "      <td>1.958696e+00</td>\n",
       "      <td>1.651309e+00</td>\n",
       "      <td>1.516255e+00</td>\n",
       "      <td>1.415869e+00</td>\n",
       "      <td>1.380247e+00</td>\n",
       "      <td>1.332271e+00</td>\n",
       "      <td>1.237094e+00</td>\n",
       "      <td>1.194353e+00</td>\n",
       "      <td>1.098632e+00</td>\n",
       "      <td>...</td>\n",
       "      <td>7.345240e-01</td>\n",
       "      <td>7.257016e-01</td>\n",
       "      <td>6.244603e-01</td>\n",
       "      <td>6.056471e-01</td>\n",
       "      <td>5.212781e-01</td>\n",
       "      <td>4.822270e-01</td>\n",
       "      <td>4.036325e-01</td>\n",
       "      <td>3.300833e-01</td>\n",
       "      <td>250.120109</td>\n",
       "      <td>0.041527</td>\n",
       "    </tr>\n",
       "    <tr>\n",
       "      <th>min</th>\n",
       "      <td>0.000000</td>\n",
       "      <td>-5.640751e+01</td>\n",
       "      <td>-7.271573e+01</td>\n",
       "      <td>-4.832559e+01</td>\n",
       "      <td>-5.683171e+00</td>\n",
       "      <td>-1.137433e+02</td>\n",
       "      <td>-2.616051e+01</td>\n",
       "      <td>-4.355724e+01</td>\n",
       "      <td>-7.321672e+01</td>\n",
       "      <td>-1.343407e+01</td>\n",
       "      <td>...</td>\n",
       "      <td>-3.483038e+01</td>\n",
       "      <td>-1.093314e+01</td>\n",
       "      <td>-4.480774e+01</td>\n",
       "      <td>-2.836627e+00</td>\n",
       "      <td>-1.029540e+01</td>\n",
       "      <td>-2.604551e+00</td>\n",
       "      <td>-2.256568e+01</td>\n",
       "      <td>-1.543008e+01</td>\n",
       "      <td>0.000000</td>\n",
       "      <td>0.000000</td>\n",
       "    </tr>\n",
       "    <tr>\n",
       "      <th>25%</th>\n",
       "      <td>54201.500000</td>\n",
       "      <td>-9.203734e-01</td>\n",
       "      <td>-5.985499e-01</td>\n",
       "      <td>-8.903648e-01</td>\n",
       "      <td>-8.486401e-01</td>\n",
       "      <td>-6.915971e-01</td>\n",
       "      <td>-7.682956e-01</td>\n",
       "      <td>-5.540759e-01</td>\n",
       "      <td>-2.086297e-01</td>\n",
       "      <td>-6.430976e-01</td>\n",
       "      <td>...</td>\n",
       "      <td>-2.283949e-01</td>\n",
       "      <td>-5.423504e-01</td>\n",
       "      <td>-1.618463e-01</td>\n",
       "      <td>-3.545861e-01</td>\n",
       "      <td>-3.171451e-01</td>\n",
       "      <td>-3.269839e-01</td>\n",
       "      <td>-7.083953e-02</td>\n",
       "      <td>-5.295979e-02</td>\n",
       "      <td>5.600000</td>\n",
       "      <td>0.000000</td>\n",
       "    </tr>\n",
       "    <tr>\n",
       "      <th>50%</th>\n",
       "      <td>84692.000000</td>\n",
       "      <td>1.810880e-02</td>\n",
       "      <td>6.548556e-02</td>\n",
       "      <td>1.798463e-01</td>\n",
       "      <td>-1.984653e-02</td>\n",
       "      <td>-5.433583e-02</td>\n",
       "      <td>-2.741871e-01</td>\n",
       "      <td>4.010308e-02</td>\n",
       "      <td>2.235804e-02</td>\n",
       "      <td>-5.142873e-02</td>\n",
       "      <td>...</td>\n",
       "      <td>-2.945017e-02</td>\n",
       "      <td>6.781943e-03</td>\n",
       "      <td>-1.119293e-02</td>\n",
       "      <td>4.097606e-02</td>\n",
       "      <td>1.659350e-02</td>\n",
       "      <td>-5.213911e-02</td>\n",
       "      <td>1.342146e-03</td>\n",
       "      <td>1.124383e-02</td>\n",
       "      <td>22.000000</td>\n",
       "      <td>0.000000</td>\n",
       "    </tr>\n",
       "    <tr>\n",
       "      <th>75%</th>\n",
       "      <td>139320.500000</td>\n",
       "      <td>1.315642e+00</td>\n",
       "      <td>8.037239e-01</td>\n",
       "      <td>1.027196e+00</td>\n",
       "      <td>7.433413e-01</td>\n",
       "      <td>6.119264e-01</td>\n",
       "      <td>3.985649e-01</td>\n",
       "      <td>5.704361e-01</td>\n",
       "      <td>3.273459e-01</td>\n",
       "      <td>5.971390e-01</td>\n",
       "      <td>...</td>\n",
       "      <td>1.863772e-01</td>\n",
       "      <td>5.285536e-01</td>\n",
       "      <td>1.476421e-01</td>\n",
       "      <td>4.395266e-01</td>\n",
       "      <td>3.507156e-01</td>\n",
       "      <td>2.409522e-01</td>\n",
       "      <td>9.104512e-02</td>\n",
       "      <td>7.827995e-02</td>\n",
       "      <td>77.165000</td>\n",
       "      <td>0.000000</td>\n",
       "    </tr>\n",
       "    <tr>\n",
       "      <th>max</th>\n",
       "      <td>172792.000000</td>\n",
       "      <td>2.454930e+00</td>\n",
       "      <td>2.205773e+01</td>\n",
       "      <td>9.382558e+00</td>\n",
       "      <td>1.687534e+01</td>\n",
       "      <td>3.480167e+01</td>\n",
       "      <td>7.330163e+01</td>\n",
       "      <td>1.205895e+02</td>\n",
       "      <td>2.000721e+01</td>\n",
       "      <td>1.559499e+01</td>\n",
       "      <td>...</td>\n",
       "      <td>2.720284e+01</td>\n",
       "      <td>1.050309e+01</td>\n",
       "      <td>2.252841e+01</td>\n",
       "      <td>4.584549e+00</td>\n",
       "      <td>7.519589e+00</td>\n",
       "      <td>3.517346e+00</td>\n",
       "      <td>3.161220e+01</td>\n",
       "      <td>3.384781e+01</td>\n",
       "      <td>25691.160000</td>\n",
       "      <td>1.000000</td>\n",
       "    </tr>\n",
       "  </tbody>\n",
       "</table>\n",
       "<p>8 rows × 31 columns</p>\n",
       "</div>"
      ],
      "text/plain": [
       "                Time            V1            V2            V3            V4  \\\n",
       "count  284807.000000  2.848070e+05  2.848070e+05  2.848070e+05  2.848070e+05   \n",
       "mean    94813.859575  3.918649e-15  5.682686e-16 -8.761736e-15  2.811118e-15   \n",
       "std     47488.145955  1.958696e+00  1.651309e+00  1.516255e+00  1.415869e+00   \n",
       "min         0.000000 -5.640751e+01 -7.271573e+01 -4.832559e+01 -5.683171e+00   \n",
       "25%     54201.500000 -9.203734e-01 -5.985499e-01 -8.903648e-01 -8.486401e-01   \n",
       "50%     84692.000000  1.810880e-02  6.548556e-02  1.798463e-01 -1.984653e-02   \n",
       "75%    139320.500000  1.315642e+00  8.037239e-01  1.027196e+00  7.433413e-01   \n",
       "max    172792.000000  2.454930e+00  2.205773e+01  9.382558e+00  1.687534e+01   \n",
       "\n",
       "                 V5            V6            V7            V8            V9  \\\n",
       "count  2.848070e+05  2.848070e+05  2.848070e+05  2.848070e+05  2.848070e+05   \n",
       "mean  -1.552103e-15  2.040130e-15 -1.698953e-15 -1.893285e-16 -3.147640e-15   \n",
       "std    1.380247e+00  1.332271e+00  1.237094e+00  1.194353e+00  1.098632e+00   \n",
       "min   -1.137433e+02 -2.616051e+01 -4.355724e+01 -7.321672e+01 -1.343407e+01   \n",
       "25%   -6.915971e-01 -7.682956e-01 -5.540759e-01 -2.086297e-01 -6.430976e-01   \n",
       "50%   -5.433583e-02 -2.741871e-01  4.010308e-02  2.235804e-02 -5.142873e-02   \n",
       "75%    6.119264e-01  3.985649e-01  5.704361e-01  3.273459e-01  5.971390e-01   \n",
       "max    3.480167e+01  7.330163e+01  1.205895e+02  2.000721e+01  1.559499e+01   \n",
       "\n",
       "       ...           V21           V22           V23           V24  \\\n",
       "count  ...  2.848070e+05  2.848070e+05  2.848070e+05  2.848070e+05   \n",
       "mean   ...  1.473120e-16  8.042109e-16  5.282512e-16  4.456271e-15   \n",
       "std    ...  7.345240e-01  7.257016e-01  6.244603e-01  6.056471e-01   \n",
       "min    ... -3.483038e+01 -1.093314e+01 -4.480774e+01 -2.836627e+00   \n",
       "25%    ... -2.283949e-01 -5.423504e-01 -1.618463e-01 -3.545861e-01   \n",
       "50%    ... -2.945017e-02  6.781943e-03 -1.119293e-02  4.097606e-02   \n",
       "75%    ...  1.863772e-01  5.285536e-01  1.476421e-01  4.395266e-01   \n",
       "max    ...  2.720284e+01  1.050309e+01  2.252841e+01  4.584549e+00   \n",
       "\n",
       "                V25           V26           V27           V28         Amount  \\\n",
       "count  2.848070e+05  2.848070e+05  2.848070e+05  2.848070e+05  284807.000000   \n",
       "mean   1.426896e-15  1.701640e-15 -3.662252e-16 -1.217809e-16      88.349619   \n",
       "std    5.212781e-01  4.822270e-01  4.036325e-01  3.300833e-01     250.120109   \n",
       "min   -1.029540e+01 -2.604551e+00 -2.256568e+01 -1.543008e+01       0.000000   \n",
       "25%   -3.171451e-01 -3.269839e-01 -7.083953e-02 -5.295979e-02       5.600000   \n",
       "50%    1.659350e-02 -5.213911e-02  1.342146e-03  1.124383e-02      22.000000   \n",
       "75%    3.507156e-01  2.409522e-01  9.104512e-02  7.827995e-02      77.165000   \n",
       "max    7.519589e+00  3.517346e+00  3.161220e+01  3.384781e+01   25691.160000   \n",
       "\n",
       "               Class  \n",
       "count  284807.000000  \n",
       "mean        0.001727  \n",
       "std         0.041527  \n",
       "min         0.000000  \n",
       "25%         0.000000  \n",
       "50%         0.000000  \n",
       "75%         0.000000  \n",
       "max         1.000000  \n",
       "\n",
       "[8 rows x 31 columns]"
      ]
     },
     "execution_count": 5,
     "metadata": {},
     "output_type": "execute_result"
    }
   ],
   "source": [
    "df.describe()"
   ]
  },
  {
   "cell_type": "code",
   "execution_count": 6,
   "id": "bf2672d4",
   "metadata": {},
   "outputs": [
    {
     "data": {
      "text/plain": [
       "<AxesSubplot:xlabel='Class', ylabel='count'>"
      ]
     },
     "execution_count": 6,
     "metadata": {},
     "output_type": "execute_result"
    },
    {
     "data": {
      "image/png": "[encoded data removed]",
      "text/plain": [
       "<Figure size 432x288 with 1 Axes>"
      ]
     },
     "metadata": {
      "needs_background": "light"
     },
     "output_type": "display_data"
    }
   ],
   "source": [
    "sns.countplot(x='Class', data=df)"
   ]
  },
  {
   "cell_type": "code",
   "execution_count": 7,
   "id": "9676c1a5",
   "metadata": {},
   "outputs": [
    {
     "data": {
      "text/plain": [
       "Index([], dtype='object')"
      ]
     },
     "execution_count": 7,
     "metadata": {},
     "output_type": "execute_result"
    }
   ],
   "source": [
    "df.columns[df.isna().any()]"
   ]
  },
  {
   "cell_type": "code",
   "execution_count": 8,
   "id": "1bf7b3e2",
   "metadata": {},
   "outputs": [
    {
     "data": {
      "image/png": "[encoded data removed]",
      "text/plain": [
       "<Figure size 1296x288 with 2 Axes>"
      ]
     },
     "metadata": {
      "needs_background": "light"
     },
     "output_type": "display_data"
    }
   ],
   "source": [
    "ig, ax = plt.subplots(1, 2, figsize=(18,4))\n",
    "\n",
    "amount_val = df['Amount'].values\n",
    "time_val = df['Time'].values\n",
    "\n",
    "sns.distplot(amount_val, ax=ax[0], color='b')\n",
    "ax[0].set_title('Distribution of Transaction Amount', fontsize=14)\n",
    "ax[0].set_xlim([min(amount_val), max(amount_val)])\n",
    "\n",
    "sns.distplot(time_val, ax=ax[1], color='r')\n",
    "ax[1].set_title('Distribution of Transaction Time', fontsize=14)\n",
    "ax[1].set_xlim([min(time_val), max(time_val)])\n",
    "\n",
    "plt.show()"
   ]
  },
  {
   "cell_type": "code",
   "execution_count": 9,
   "id": "e7aa842d",
   "metadata": {},
   "outputs": [
    {
     "data": {
      "text/plain": [
       "<AxesSubplot:ylabel='Density'>"
      ]
     },
     "execution_count": 9,
     "metadata": {},
     "output_type": "execute_result"
    },
    {
     "data": {
      "image/png": "[encoded data removed]",
      "text/plain": [
       "<Figure size 432x288 with 1 Axes>"
      ]
     },
     "metadata": {
      "needs_background": "light"
     },
     "output_type": "display_data"
    }
   ],
   "source": [
    "sns.distplot(amount_val, color='b')\n"
   ]
  },
  {
   "cell_type": "code",
   "execution_count": 10,
   "id": "05b9d2a7",
   "metadata": {},
   "outputs": [
    {
     "data": {
      "image/png": "[encoded data removed]",
      "text/plain": [
       "<Figure size 1800x1080 with 2 Axes>"
      ]
     },
     "metadata": {
      "needs_background": "light"
     },
     "output_type": "display_data"
    }
   ],
   "source": [
    "plt.figure(figsize=(25,15))\n",
    "sns.heatmap(df.corr(), cmap='coolwarm_r', annot_kws={'size':20});"
   ]
  },
  {
   "cell_type": "code",
   "execution_count": null,
   "id": "60633a17",
   "metadata": {},
   "outputs": [],
   "source": []
  },
  {
   "cell_type": "code",
   "execution_count": 11,
   "id": "82d70e31",
   "metadata": {},
   "outputs": [
    {
     "data": {
      "text/html": [
       "<div>\n",
       "<style scoped>\n",
       "    .dataframe tbody tr th:only-of-type {\n",
       "        vertical-align: middle;\n",
       "    }\n",
       "\n",
       "    .dataframe tbody tr th {\n",
       "        vertical-align: top;\n",
       "    }\n",
       "\n",
       "    .dataframe thead th {\n",
       "        text-align: right;\n",
       "    }\n",
       "</style>\n",
       "<table border=\"1\" class=\"dataframe\">\n",
       "  <thead>\n",
       "    <tr style=\"text-align: right;\">\n",
       "      <th></th>\n",
       "      <th>Time</th>\n",
       "      <th>V1</th>\n",
       "      <th>V2</th>\n",
       "      <th>V3</th>\n",
       "      <th>V4</th>\n",
       "      <th>V5</th>\n",
       "      <th>V6</th>\n",
       "      <th>V7</th>\n",
       "      <th>V8</th>\n",
       "      <th>V9</th>\n",
       "      <th>...</th>\n",
       "      <th>V20</th>\n",
       "      <th>V21</th>\n",
       "      <th>V22</th>\n",
       "      <th>V23</th>\n",
       "      <th>V24</th>\n",
       "      <th>V25</th>\n",
       "      <th>V26</th>\n",
       "      <th>V27</th>\n",
       "      <th>V28</th>\n",
       "      <th>Amount</th>\n",
       "    </tr>\n",
       "    <tr>\n",
       "      <th>Class</th>\n",
       "      <th></th>\n",
       "      <th></th>\n",
       "      <th></th>\n",
       "      <th></th>\n",
       "      <th></th>\n",
       "      <th></th>\n",
       "      <th></th>\n",
       "      <th></th>\n",
       "      <th></th>\n",
       "      <th></th>\n",
       "      <th></th>\n",
       "      <th></th>\n",
       "      <th></th>\n",
       "      <th></th>\n",
       "      <th></th>\n",
       "      <th></th>\n",
       "      <th></th>\n",
       "      <th></th>\n",
       "      <th></th>\n",
       "      <th></th>\n",
       "      <th></th>\n",
       "    </tr>\n",
       "  </thead>\n",
       "  <tbody>\n",
       "    <tr>\n",
       "      <th>0</th>\n",
       "      <td>94838.202258</td>\n",
       "      <td>0.008258</td>\n",
       "      <td>-0.006271</td>\n",
       "      <td>0.012171</td>\n",
       "      <td>-0.007860</td>\n",
       "      <td>0.005453</td>\n",
       "      <td>0.002419</td>\n",
       "      <td>0.009637</td>\n",
       "      <td>-0.000987</td>\n",
       "      <td>0.004467</td>\n",
       "      <td>...</td>\n",
       "      <td>-0.000644</td>\n",
       "      <td>-0.001235</td>\n",
       "      <td>-0.000024</td>\n",
       "      <td>0.000070</td>\n",
       "      <td>0.000182</td>\n",
       "      <td>-0.000072</td>\n",
       "      <td>-0.000089</td>\n",
       "      <td>-0.000295</td>\n",
       "      <td>-0.000131</td>\n",
       "      <td>88.291022</td>\n",
       "    </tr>\n",
       "    <tr>\n",
       "      <th>1</th>\n",
       "      <td>80746.806911</td>\n",
       "      <td>-4.771948</td>\n",
       "      <td>3.623778</td>\n",
       "      <td>-7.033281</td>\n",
       "      <td>4.542029</td>\n",
       "      <td>-3.151225</td>\n",
       "      <td>-1.397737</td>\n",
       "      <td>-5.568731</td>\n",
       "      <td>0.570636</td>\n",
       "      <td>-2.581123</td>\n",
       "      <td>...</td>\n",
       "      <td>0.372319</td>\n",
       "      <td>0.713588</td>\n",
       "      <td>0.014049</td>\n",
       "      <td>-0.040308</td>\n",
       "      <td>-0.105130</td>\n",
       "      <td>0.041449</td>\n",
       "      <td>0.051648</td>\n",
       "      <td>0.170575</td>\n",
       "      <td>0.075667</td>\n",
       "      <td>122.211321</td>\n",
       "    </tr>\n",
       "  </tbody>\n",
       "</table>\n",
       "<p>2 rows × 30 columns</p>\n",
       "</div>"
      ],
      "text/plain": [
       "               Time        V1        V2        V3        V4        V5  \\\n",
       "Class                                                                   \n",
       "0      94838.202258  0.008258 -0.006271  0.012171 -0.007860  0.005453   \n",
       "1      80746.806911 -4.771948  3.623778 -7.033281  4.542029 -3.151225   \n",
       "\n",
       "             V6        V7        V8        V9  ...       V20       V21  \\\n",
       "Class                                          ...                       \n",
       "0      0.002419  0.009637 -0.000987  0.004467  ... -0.000644 -0.001235   \n",
       "1     -1.397737 -5.568731  0.570636 -2.581123  ...  0.372319  0.713588   \n",
       "\n",
       "            V22       V23       V24       V25       V26       V27       V28  \\\n",
       "Class                                                                         \n",
       "0     -0.000024  0.000070  0.000182 -0.000072 -0.000089 -0.000295 -0.000131   \n",
       "1      0.014049 -0.040308 -0.105130  0.041449  0.051648  0.170575  0.075667   \n",
       "\n",
       "           Amount  \n",
       "Class              \n",
       "0       88.291022  \n",
       "1      122.211321  \n",
       "\n",
       "[2 rows x 30 columns]"
      ]
     },
     "execution_count": 11,
     "metadata": {},
     "output_type": "execute_result"
    }
   ],
   "source": [
    "df.groupby('Class').mean()"
   ]
  },
  {
   "cell_type": "markdown",
   "id": "3a1438c4",
   "metadata": {},
   "source": [
    "We note from the drawing that the data is unbalanced and most of the data descend towards the legal transactions. Let us take samples from the legal and illegal transactions in the same proportions to achieve balance and train the model on them"
   ]
  },
  {
   "cell_type": "code",
   "execution_count": 12,
   "id": "713b5556",
   "metadata": {},
   "outputs": [],
   "source": [
    "legit = df[df.Class == 0]\n",
    "fraud = df[df.Class == 1]"
   ]
  },
  {
   "cell_type": "code",
   "execution_count": 13,
   "id": "497a643d",
   "metadata": {},
   "outputs": [],
   "source": [
    "legit_S= legit.sample(480)\n",
    "fraud_S= fraud.sample(480)"
   ]
  },
  {
   "cell_type": "code",
   "execution_count": 14,
   "id": "5bab3b84",
   "metadata": {},
   "outputs": [
    {
     "data": {
      "text/plain": [
       "480"
      ]
     },
     "execution_count": 14,
     "metadata": {},
     "output_type": "execute_result"
    }
   ],
   "source": [
    "fraud_S.shape[0]"
   ]
  },
  {
   "cell_type": "markdown",
   "id": "7b42e82b",
   "metadata": {},
   "source": [
    "<h5>Now we'll work with balanced </h5>"
   ]
  },
  {
   "cell_type": "code",
   "execution_count": 15,
   "id": "9ff9ca6f",
   "metadata": {},
   "outputs": [],
   "source": [
    "b_df = pd.concat([legit_S,fraud_S],axis=0 )"
   ]
  },
  {
   "cell_type": "code",
   "execution_count": 16,
   "id": "d0ec8c45",
   "metadata": {},
   "outputs": [
    {
     "data": {
      "text/html": [
       "<div>\n",
       "<style scoped>\n",
       "    .dataframe tbody tr th:only-of-type {\n",
       "        vertical-align: middle;\n",
       "    }\n",
       "\n",
       "    .dataframe tbody tr th {\n",
       "        vertical-align: top;\n",
       "    }\n",
       "\n",
       "    .dataframe thead th {\n",
       "        text-align: right;\n",
       "    }\n",
       "</style>\n",
       "<table border=\"1\" class=\"dataframe\">\n",
       "  <thead>\n",
       "    <tr style=\"text-align: right;\">\n",
       "      <th></th>\n",
       "      <th>Time</th>\n",
       "      <th>V1</th>\n",
       "      <th>V2</th>\n",
       "      <th>V3</th>\n",
       "      <th>V4</th>\n",
       "      <th>V5</th>\n",
       "      <th>V6</th>\n",
       "      <th>V7</th>\n",
       "      <th>V8</th>\n",
       "      <th>V9</th>\n",
       "      <th>...</th>\n",
       "      <th>V21</th>\n",
       "      <th>V22</th>\n",
       "      <th>V23</th>\n",
       "      <th>V24</th>\n",
       "      <th>V25</th>\n",
       "      <th>V26</th>\n",
       "      <th>V27</th>\n",
       "      <th>V28</th>\n",
       "      <th>Amount</th>\n",
       "      <th>Class</th>\n",
       "    </tr>\n",
       "  </thead>\n",
       "  <tbody>\n",
       "    <tr>\n",
       "      <th>260322</th>\n",
       "      <td>159500.0</td>\n",
       "      <td>-2.574043</td>\n",
       "      <td>-1.791565</td>\n",
       "      <td>2.320170</td>\n",
       "      <td>-2.034457</td>\n",
       "      <td>0.113439</td>\n",
       "      <td>-0.286806</td>\n",
       "      <td>-1.223947</td>\n",
       "      <td>-0.531313</td>\n",
       "      <td>-0.492569</td>\n",
       "      <td>...</td>\n",
       "      <td>0.969499</td>\n",
       "      <td>1.134865</td>\n",
       "      <td>0.936232</td>\n",
       "      <td>-0.324260</td>\n",
       "      <td>0.822857</td>\n",
       "      <td>0.011852</td>\n",
       "      <td>0.365446</td>\n",
       "      <td>-0.176769</td>\n",
       "      <td>7.60</td>\n",
       "      <td>0</td>\n",
       "    </tr>\n",
       "    <tr>\n",
       "      <th>89773</th>\n",
       "      <td>62716.0</td>\n",
       "      <td>-1.290449</td>\n",
       "      <td>1.289952</td>\n",
       "      <td>1.983024</td>\n",
       "      <td>0.399587</td>\n",
       "      <td>0.261020</td>\n",
       "      <td>-0.269042</td>\n",
       "      <td>-0.902256</td>\n",
       "      <td>-2.933331</td>\n",
       "      <td>-0.498935</td>\n",
       "      <td>...</td>\n",
       "      <td>-1.522134</td>\n",
       "      <td>-0.250292</td>\n",
       "      <td>-0.856076</td>\n",
       "      <td>0.526904</td>\n",
       "      <td>-0.402730</td>\n",
       "      <td>0.147978</td>\n",
       "      <td>-0.310226</td>\n",
       "      <td>-0.260582</td>\n",
       "      <td>9.86</td>\n",
       "      <td>0</td>\n",
       "    </tr>\n",
       "    <tr>\n",
       "      <th>98999</th>\n",
       "      <td>66913.0</td>\n",
       "      <td>1.479118</td>\n",
       "      <td>-0.802927</td>\n",
       "      <td>0.251049</td>\n",
       "      <td>-1.420287</td>\n",
       "      <td>-1.271145</td>\n",
       "      <td>-1.045146</td>\n",
       "      <td>-0.621939</td>\n",
       "      <td>-0.239740</td>\n",
       "      <td>-2.468087</td>\n",
       "      <td>...</td>\n",
       "      <td>-0.494346</td>\n",
       "      <td>-1.114402</td>\n",
       "      <td>0.216334</td>\n",
       "      <td>0.472919</td>\n",
       "      <td>0.193382</td>\n",
       "      <td>-0.559728</td>\n",
       "      <td>0.008691</td>\n",
       "      <td>0.012282</td>\n",
       "      <td>14.94</td>\n",
       "      <td>0</td>\n",
       "    </tr>\n",
       "    <tr>\n",
       "      <th>96378</th>\n",
       "      <td>65744.0</td>\n",
       "      <td>1.227716</td>\n",
       "      <td>-0.150021</td>\n",
       "      <td>-0.898214</td>\n",
       "      <td>0.319432</td>\n",
       "      <td>1.971917</td>\n",
       "      <td>3.813593</td>\n",
       "      <td>-0.666014</td>\n",
       "      <td>0.935136</td>\n",
       "      <td>0.414686</td>\n",
       "      <td>...</td>\n",
       "      <td>-0.129330</td>\n",
       "      <td>-0.297202</td>\n",
       "      <td>-0.144492</td>\n",
       "      <td>1.019098</td>\n",
       "      <td>0.857412</td>\n",
       "      <td>-0.284083</td>\n",
       "      <td>0.040500</td>\n",
       "      <td>0.017910</td>\n",
       "      <td>16.00</td>\n",
       "      <td>0</td>\n",
       "    </tr>\n",
       "    <tr>\n",
       "      <th>224670</th>\n",
       "      <td>143910.0</td>\n",
       "      <td>1.892835</td>\n",
       "      <td>-0.497683</td>\n",
       "      <td>-1.548864</td>\n",
       "      <td>0.053924</td>\n",
       "      <td>0.338612</td>\n",
       "      <td>-0.149827</td>\n",
       "      <td>0.203976</td>\n",
       "      <td>-0.244705</td>\n",
       "      <td>0.899907</td>\n",
       "      <td>...</td>\n",
       "      <td>-0.137411</td>\n",
       "      <td>-0.348725</td>\n",
       "      <td>0.044107</td>\n",
       "      <td>0.090694</td>\n",
       "      <td>0.062800</td>\n",
       "      <td>-0.095132</td>\n",
       "      <td>-0.041717</td>\n",
       "      <td>-0.033999</td>\n",
       "      <td>115.36</td>\n",
       "      <td>0</td>\n",
       "    </tr>\n",
       "    <tr>\n",
       "      <th>...</th>\n",
       "      <td>...</td>\n",
       "      <td>...</td>\n",
       "      <td>...</td>\n",
       "      <td>...</td>\n",
       "      <td>...</td>\n",
       "      <td>...</td>\n",
       "      <td>...</td>\n",
       "      <td>...</td>\n",
       "      <td>...</td>\n",
       "      <td>...</td>\n",
       "      <td>...</td>\n",
       "      <td>...</td>\n",
       "      <td>...</td>\n",
       "      <td>...</td>\n",
       "      <td>...</td>\n",
       "      <td>...</td>\n",
       "      <td>...</td>\n",
       "      <td>...</td>\n",
       "      <td>...</td>\n",
       "      <td>...</td>\n",
       "      <td>...</td>\n",
       "    </tr>\n",
       "    <tr>\n",
       "      <th>226814</th>\n",
       "      <td>144808.0</td>\n",
       "      <td>-2.405207</td>\n",
       "      <td>2.943823</td>\n",
       "      <td>-7.616654</td>\n",
       "      <td>3.533374</td>\n",
       "      <td>-5.417494</td>\n",
       "      <td>-0.112632</td>\n",
       "      <td>-1.329372</td>\n",
       "      <td>1.709417</td>\n",
       "      <td>-2.322716</td>\n",
       "      <td>...</td>\n",
       "      <td>0.652683</td>\n",
       "      <td>0.414132</td>\n",
       "      <td>0.023869</td>\n",
       "      <td>-0.260616</td>\n",
       "      <td>0.405316</td>\n",
       "      <td>0.029107</td>\n",
       "      <td>0.519807</td>\n",
       "      <td>-0.469537</td>\n",
       "      <td>667.55</td>\n",
       "      <td>1</td>\n",
       "    </tr>\n",
       "    <tr>\n",
       "      <th>8335</th>\n",
       "      <td>11131.0</td>\n",
       "      <td>-1.426623</td>\n",
       "      <td>4.141986</td>\n",
       "      <td>-9.804103</td>\n",
       "      <td>6.666273</td>\n",
       "      <td>-4.749527</td>\n",
       "      <td>-2.073129</td>\n",
       "      <td>-10.089931</td>\n",
       "      <td>2.791345</td>\n",
       "      <td>-3.249516</td>\n",
       "      <td>...</td>\n",
       "      <td>1.865679</td>\n",
       "      <td>0.407809</td>\n",
       "      <td>0.605809</td>\n",
       "      <td>-0.769348</td>\n",
       "      <td>-1.746337</td>\n",
       "      <td>0.502040</td>\n",
       "      <td>1.977258</td>\n",
       "      <td>0.711607</td>\n",
       "      <td>1.00</td>\n",
       "      <td>1</td>\n",
       "    </tr>\n",
       "    <tr>\n",
       "      <th>220725</th>\n",
       "      <td>142280.0</td>\n",
       "      <td>-1.169203</td>\n",
       "      <td>1.863414</td>\n",
       "      <td>-2.515135</td>\n",
       "      <td>5.463681</td>\n",
       "      <td>-0.297971</td>\n",
       "      <td>1.364918</td>\n",
       "      <td>0.759219</td>\n",
       "      <td>-0.118861</td>\n",
       "      <td>-2.293921</td>\n",
       "      <td>...</td>\n",
       "      <td>-0.393090</td>\n",
       "      <td>-0.708692</td>\n",
       "      <td>0.471309</td>\n",
       "      <td>-0.078616</td>\n",
       "      <td>-0.544655</td>\n",
       "      <td>0.014777</td>\n",
       "      <td>-0.240930</td>\n",
       "      <td>-0.781055</td>\n",
       "      <td>324.59</td>\n",
       "      <td>1</td>\n",
       "    </tr>\n",
       "    <tr>\n",
       "      <th>102782</th>\n",
       "      <td>68357.0</td>\n",
       "      <td>1.232604</td>\n",
       "      <td>-0.548931</td>\n",
       "      <td>1.087873</td>\n",
       "      <td>0.894082</td>\n",
       "      <td>-1.433055</td>\n",
       "      <td>-0.356797</td>\n",
       "      <td>-0.717492</td>\n",
       "      <td>0.003167</td>\n",
       "      <td>-0.100397</td>\n",
       "      <td>...</td>\n",
       "      <td>-0.448671</td>\n",
       "      <td>-0.517568</td>\n",
       "      <td>0.012833</td>\n",
       "      <td>0.699217</td>\n",
       "      <td>0.527258</td>\n",
       "      <td>-0.322607</td>\n",
       "      <td>0.080805</td>\n",
       "      <td>0.035427</td>\n",
       "      <td>19.59</td>\n",
       "      <td>1</td>\n",
       "    </tr>\n",
       "    <tr>\n",
       "      <th>150687</th>\n",
       "      <td>93897.0</td>\n",
       "      <td>-10.300820</td>\n",
       "      <td>6.483095</td>\n",
       "      <td>-15.076363</td>\n",
       "      <td>6.554191</td>\n",
       "      <td>-8.880252</td>\n",
       "      <td>-4.471672</td>\n",
       "      <td>-14.900689</td>\n",
       "      <td>3.840170</td>\n",
       "      <td>-4.358441</td>\n",
       "      <td>...</td>\n",
       "      <td>1.508748</td>\n",
       "      <td>1.041642</td>\n",
       "      <td>-0.682790</td>\n",
       "      <td>0.573544</td>\n",
       "      <td>-1.602389</td>\n",
       "      <td>-0.393521</td>\n",
       "      <td>-0.468893</td>\n",
       "      <td>0.105920</td>\n",
       "      <td>1.00</td>\n",
       "      <td>1</td>\n",
       "    </tr>\n",
       "  </tbody>\n",
       "</table>\n",
       "<p>960 rows × 31 columns</p>\n",
       "</div>"
      ],
      "text/plain": [
       "            Time         V1        V2         V3        V4        V5  \\\n",
       "260322  159500.0  -2.574043 -1.791565   2.320170 -2.034457  0.113439   \n",
       "89773    62716.0  -1.290449  1.289952   1.983024  0.399587  0.261020   \n",
       "98999    66913.0   1.479118 -0.802927   0.251049 -1.420287 -1.271145   \n",
       "96378    65744.0   1.227716 -0.150021  -0.898214  0.319432  1.971917   \n",
       "224670  143910.0   1.892835 -0.497683  -1.548864  0.053924  0.338612   \n",
       "...          ...        ...       ...        ...       ...       ...   \n",
       "226814  144808.0  -2.405207  2.943823  -7.616654  3.533374 -5.417494   \n",
       "8335     11131.0  -1.426623  4.141986  -9.804103  6.666273 -4.749527   \n",
       "220725  142280.0  -1.169203  1.863414  -2.515135  5.463681 -0.297971   \n",
       "102782   68357.0   1.232604 -0.548931   1.087873  0.894082 -1.433055   \n",
       "150687   93897.0 -10.300820  6.483095 -15.076363  6.554191 -8.880252   \n",
       "\n",
       "              V6         V7        V8        V9  ...       V21       V22  \\\n",
       "260322 -0.286806  -1.223947 -0.531313 -0.492569  ...  0.969499  1.134865   \n",
       "89773  -0.269042  -0.902256 -2.933331 -0.498935  ... -1.522134 -0.250292   \n",
       "98999  -1.045146  -0.621939 -0.239740 -2.468087  ... -0.494346 -1.114402   \n",
       "96378   3.813593  -0.666014  0.935136  0.414686  ... -0.129330 -0.297202   \n",
       "224670 -0.149827   0.203976 -0.244705  0.899907  ... -0.137411 -0.348725   \n",
       "...          ...        ...       ...       ...  ...       ...       ...   \n",
       "226814 -0.112632  -1.329372  1.709417 -2.322716  ...  0.652683  0.414132   \n",
       "8335   -2.073129 -10.089931  2.791345 -3.249516  ...  1.865679  0.407809   \n",
       "220725  1.364918   0.759219 -0.118861 -2.293921  ... -0.393090 -0.708692   \n",
       "102782 -0.356797  -0.717492  0.003167 -0.100397  ... -0.448671 -0.517568   \n",
       "150687 -4.471672 -14.900689  3.840170 -4.358441  ...  1.508748  1.041642   \n",
       "\n",
       "             V23       V24       V25       V26       V27       V28  Amount  \\\n",
       "260322  0.936232 -0.324260  0.822857  0.011852  0.365446 -0.176769    7.60   \n",
       "89773  -0.856076  0.526904 -0.402730  0.147978 -0.310226 -0.260582    9.86   \n",
       "98999   0.216334  0.472919  0.193382 -0.559728  0.008691  0.012282   14.94   \n",
       "96378  -0.144492  1.019098  0.857412 -0.284083  0.040500  0.017910   16.00   \n",
       "224670  0.044107  0.090694  0.062800 -0.095132 -0.041717 -0.033999  115.36   \n",
       "...          ...       ...       ...       ...       ...       ...     ...   \n",
       "226814  0.023869 -0.260616  0.405316  0.029107  0.519807 -0.469537  667.55   \n",
       "8335    0.605809 -0.769348 -1.746337  0.502040  1.977258  0.711607    1.00   \n",
       "220725  0.471309 -0.078616 -0.544655  0.014777 -0.240930 -0.781055  324.59   \n",
       "102782  0.012833  0.699217  0.527258 -0.322607  0.080805  0.035427   19.59   \n",
       "150687 -0.682790  0.573544 -1.602389 -0.393521 -0.468893  0.105920    1.00   \n",
       "\n",
       "        Class  \n",
       "260322      0  \n",
       "89773       0  \n",
       "98999       0  \n",
       "96378       0  \n",
       "224670      0  \n",
       "...       ...  \n",
       "226814      1  \n",
       "8335        1  \n",
       "220725      1  \n",
       "102782      1  \n",
       "150687      1  \n",
       "\n",
       "[960 rows x 31 columns]"
      ]
     },
     "execution_count": 16,
     "metadata": {},
     "output_type": "execute_result"
    }
   ],
   "source": [
    "b_df"
   ]
  },
  {
   "cell_type": "code",
   "execution_count": 17,
   "id": "a4324254",
   "metadata": {},
   "outputs": [
    {
     "data": {
      "text/plain": [
       "0    480\n",
       "1    480\n",
       "Name: Class, dtype: int64"
      ]
     },
     "execution_count": 17,
     "metadata": {},
     "output_type": "execute_result"
    }
   ],
   "source": [
    "b_df.Class.value_counts()\n"
   ]
  },
  {
   "cell_type": "code",
   "execution_count": 18,
   "id": "a5fe720b",
   "metadata": {},
   "outputs": [
    {
     "data": {
      "text/plain": [
       "<AxesSubplot:xlabel='Class', ylabel='count'>"
      ]
     },
     "execution_count": 18,
     "metadata": {},
     "output_type": "execute_result"
    },
    {
     "data": {
      "image/png": "[encoded data removed]",
      "text/plain": [
       "<Figure size 432x288 with 1 Axes>"
      ]
     },
     "metadata": {
      "needs_background": "light"
     },
     "output_type": "display_data"
    }
   ],
   "source": [
    "sns.countplot(x=\"Class\" ,data=b_df)"
   ]
  },
  {
   "cell_type": "code",
   "execution_count": 19,
   "id": "1e80797e",
   "metadata": {},
   "outputs": [
    {
     "data": {
      "text/html": [
       "<div>\n",
       "<style scoped>\n",
       "    .dataframe tbody tr th:only-of-type {\n",
       "        vertical-align: middle;\n",
       "    }\n",
       "\n",
       "    .dataframe tbody tr th {\n",
       "        vertical-align: top;\n",
       "    }\n",
       "\n",
       "    .dataframe thead th {\n",
       "        text-align: right;\n",
       "    }\n",
       "</style>\n",
       "<table border=\"1\" class=\"dataframe\">\n",
       "  <thead>\n",
       "    <tr style=\"text-align: right;\">\n",
       "      <th></th>\n",
       "      <th>Time</th>\n",
       "      <th>V1</th>\n",
       "      <th>V2</th>\n",
       "      <th>V3</th>\n",
       "      <th>V4</th>\n",
       "      <th>V5</th>\n",
       "      <th>V6</th>\n",
       "      <th>V7</th>\n",
       "      <th>V8</th>\n",
       "      <th>V9</th>\n",
       "      <th>...</th>\n",
       "      <th>V20</th>\n",
       "      <th>V21</th>\n",
       "      <th>V22</th>\n",
       "      <th>V23</th>\n",
       "      <th>V24</th>\n",
       "      <th>V25</th>\n",
       "      <th>V26</th>\n",
       "      <th>V27</th>\n",
       "      <th>V28</th>\n",
       "      <th>Amount</th>\n",
       "    </tr>\n",
       "    <tr>\n",
       "      <th>Class</th>\n",
       "      <th></th>\n",
       "      <th></th>\n",
       "      <th></th>\n",
       "      <th></th>\n",
       "      <th></th>\n",
       "      <th></th>\n",
       "      <th></th>\n",
       "      <th></th>\n",
       "      <th></th>\n",
       "      <th></th>\n",
       "      <th></th>\n",
       "      <th></th>\n",
       "      <th></th>\n",
       "      <th></th>\n",
       "      <th></th>\n",
       "      <th></th>\n",
       "      <th></th>\n",
       "      <th></th>\n",
       "      <th></th>\n",
       "      <th></th>\n",
       "      <th></th>\n",
       "    </tr>\n",
       "  </thead>\n",
       "  <tbody>\n",
       "    <tr>\n",
       "      <th>0</th>\n",
       "      <td>95739.13125</td>\n",
       "      <td>-0.015172</td>\n",
       "      <td>-0.089318</td>\n",
       "      <td>-0.027665</td>\n",
       "      <td>-0.014289</td>\n",
       "      <td>-0.001182</td>\n",
       "      <td>0.030262</td>\n",
       "      <td>0.018945</td>\n",
       "      <td>-0.085726</td>\n",
       "      <td>0.025853</td>\n",
       "      <td>...</td>\n",
       "      <td>-0.021702</td>\n",
       "      <td>0.037158</td>\n",
       "      <td>0.028390</td>\n",
       "      <td>-0.060311</td>\n",
       "      <td>-0.017720</td>\n",
       "      <td>0.005793</td>\n",
       "      <td>0.031421</td>\n",
       "      <td>-0.012796</td>\n",
       "      <td>0.024597</td>\n",
       "      <td>99.418000</td>\n",
       "    </tr>\n",
       "    <tr>\n",
       "      <th>1</th>\n",
       "      <td>80578.70000</td>\n",
       "      <td>-4.782023</td>\n",
       "      <td>3.606227</td>\n",
       "      <td>-7.057582</td>\n",
       "      <td>4.529395</td>\n",
       "      <td>-3.156752</td>\n",
       "      <td>-1.415444</td>\n",
       "      <td>-5.572428</td>\n",
       "      <td>0.615293</td>\n",
       "      <td>-2.573679</td>\n",
       "      <td>...</td>\n",
       "      <td>0.392059</td>\n",
       "      <td>0.654760</td>\n",
       "      <td>0.035895</td>\n",
       "      <td>-0.054670</td>\n",
       "      <td>-0.106274</td>\n",
       "      <td>0.043369</td>\n",
       "      <td>0.048627</td>\n",
       "      <td>0.174407</td>\n",
       "      <td>0.072040</td>\n",
       "      <td>122.968063</td>\n",
       "    </tr>\n",
       "  </tbody>\n",
       "</table>\n",
       "<p>2 rows × 30 columns</p>\n",
       "</div>"
      ],
      "text/plain": [
       "              Time        V1        V2        V3        V4        V5  \\\n",
       "Class                                                                  \n",
       "0      95739.13125 -0.015172 -0.089318 -0.027665 -0.014289 -0.001182   \n",
       "1      80578.70000 -4.782023  3.606227 -7.057582  4.529395 -3.156752   \n",
       "\n",
       "             V6        V7        V8        V9  ...       V20       V21  \\\n",
       "Class                                          ...                       \n",
       "0      0.030262  0.018945 -0.085726  0.025853  ... -0.021702  0.037158   \n",
       "1     -1.415444 -5.572428  0.615293 -2.573679  ...  0.392059  0.654760   \n",
       "\n",
       "            V22       V23       V24       V25       V26       V27       V28  \\\n",
       "Class                                                                         \n",
       "0      0.028390 -0.060311 -0.017720  0.005793  0.031421 -0.012796  0.024597   \n",
       "1      0.035895 -0.054670 -0.106274  0.043369  0.048627  0.174407  0.072040   \n",
       "\n",
       "           Amount  \n",
       "Class              \n",
       "0       99.418000  \n",
       "1      122.968063  \n",
       "\n",
       "[2 rows x 30 columns]"
      ]
     },
     "execution_count": 19,
     "metadata": {},
     "output_type": "execute_result"
    }
   ],
   "source": [
    "b_df.groupby('Class').mean()"
   ]
  },
  {
   "cell_type": "code",
   "execution_count": 20,
   "id": "81bec4ff",
   "metadata": {},
   "outputs": [
    {
     "data": {
      "image/png": "[encoded data removed]",
      "text/plain": [
       "<Figure size 432x288 with 2 Axes>"
      ]
     },
     "metadata": {
      "needs_background": "light"
     },
     "output_type": "display_data"
    }
   ],
   "source": [
    "sns.heatmap(b_df.corr(), cmap='coolwarm_r', annot_kws={'size':20});\n"
   ]
  },
  {
   "cell_type": "markdown",
   "id": "f17cba5d",
   "metadata": {},
   "source": [
    "look at the diffrence correlation between imbalanced df and balanced df\n",
    "Negative Correlations with our Class (The lower our feature value the more likely it will be a fraud transaction)\n",
    "Positive correlations (The higher the feature the probability increases that it will be a fraud transaction)\n",
    "\n",
    "V17, V14, V12, V10 are negative correlated to Class let's visualize those features V2, V4, V19, V11 are Positive correlated to Class let's visualize those features"
   ]
  },
  {
   "cell_type": "code",
   "execution_count": 21,
   "id": "fb73a825",
   "metadata": {},
   "outputs": [
    {
     "data": {
      "image/png": "[encoded data removed]",
      "text/plain": [
       "<Figure size 1440x288 with 4 Axes>"
      ]
     },
     "metadata": {
      "needs_background": "light"
     },
     "output_type": "display_data"
    }
   ],
   "source": [
    "f, axes = plt.subplots(ncols=4, figsize=(20,4))\n",
    "\n",
    "sns.boxplot(x=\"Class\", y=\"V17\", data=b_df, ax=axes[0])\n",
    "axes[0].set_title('V17 vs Class Negative Correlation')\n",
    "\n",
    "sns.boxplot(x=\"Class\", y=\"V14\", data=b_df, ax=axes[1])\n",
    "axes[1].set_title('V14 vs Class Negative Correlation')\n",
    "\n",
    "\n",
    "sns.boxplot(x=\"Class\", y=\"V12\", data=b_df, ax=axes[2])\n",
    "axes[2].set_title('V12 vs Class Negative Correlation')\n",
    "\n",
    "\n",
    "sns.boxplot(x=\"Class\", y=\"V10\", data=b_df, ax=axes[3])\n",
    "axes[3].set_title('V10 vs Class Negative Correlation')\n",
    "\n",
    "plt.show()"
   ]
  },
  {
   "cell_type": "code",
   "execution_count": 22,
   "id": "eb6b4753",
   "metadata": {},
   "outputs": [
    {
     "data": {
      "image/png": "[encoded data removed]",
      "text/plain": [
       "<Figure size 1440x288 with 4 Axes>"
      ]
     },
     "metadata": {
      "needs_background": "light"
     },
     "output_type": "display_data"
    }
   ],
   "source": [
    "f, axes = plt.subplots(ncols=4, figsize=(20,4))\n",
    "\n",
    "sns.boxplot(x=\"Class\", y=\"V11\", data=b_df, ax=axes[0])\n",
    "axes[0].set_title('V11 vs Class Positive Correlation')\n",
    "\n",
    "sns.boxplot(x=\"Class\", y=\"V4\", data=b_df, ax=axes[1])\n",
    "axes[1].set_title('V4 vs Class Positive Correlation')\n",
    "\n",
    "\n",
    "sns.boxplot(x=\"Class\", y=\"V2\", data=b_df, ax=axes[2])\n",
    "axes[2].set_title('V2 vs Class Positive Correlation')\n",
    "\n",
    "\n",
    "sns.boxplot(x=\"Class\", y=\"V19\", data=b_df, ax=axes[3])\n",
    "axes[3].set_title('V19 vs Class Positive Correlation')\n",
    "\n",
    "plt.show()"
   ]
  },
  {
   "cell_type": "markdown",
   "id": "621eb5bb",
   "metadata": {},
   "source": [
    "<h1> Feature Scaling </h1>"
   ]
  },
  {
   "cell_type": "code",
   "execution_count": null,
   "id": "75ad58a7",
   "metadata": {},
   "outputs": [],
   "source": []
  },
  {
   "cell_type": "code",
   "execution_count": 23,
   "id": "7f640302",
   "metadata": {},
   "outputs": [],
   "source": [
    "std_scaler = StandardScaler()\n",
    "b_df['scaled_amount'] = std_scaler.fit_transform(b_df['Amount'].values.reshape(-1,1))\n",
    "b_df['scaled_time'] = std_scaler.fit_transform(b_df['Time'].values.reshape(-1,1))\n",
    "b_df = b_df.drop([\"Amount\", \"Time\"],axis=1)"
   ]
  },
  {
   "cell_type": "code",
   "execution_count": 24,
   "id": "f3714bc9",
   "metadata": {},
   "outputs": [
    {
     "data": {
      "text/html": [
       "<div>\n",
       "<style scoped>\n",
       "    .dataframe tbody tr th:only-of-type {\n",
       "        vertical-align: middle;\n",
       "    }\n",
       "\n",
       "    .dataframe tbody tr th {\n",
       "        vertical-align: top;\n",
       "    }\n",
       "\n",
       "    .dataframe thead th {\n",
       "        text-align: right;\n",
       "    }\n",
       "</style>\n",
       "<table border=\"1\" class=\"dataframe\">\n",
       "  <thead>\n",
       "    <tr style=\"text-align: right;\">\n",
       "      <th></th>\n",
       "      <th>V1</th>\n",
       "      <th>V2</th>\n",
       "      <th>V3</th>\n",
       "      <th>V4</th>\n",
       "      <th>V5</th>\n",
       "      <th>V6</th>\n",
       "      <th>V7</th>\n",
       "      <th>V8</th>\n",
       "      <th>V9</th>\n",
       "      <th>V10</th>\n",
       "      <th>...</th>\n",
       "      <th>V22</th>\n",
       "      <th>V23</th>\n",
       "      <th>V24</th>\n",
       "      <th>V25</th>\n",
       "      <th>V26</th>\n",
       "      <th>V27</th>\n",
       "      <th>V28</th>\n",
       "      <th>Class</th>\n",
       "      <th>scaled_amount</th>\n",
       "      <th>scaled_time</th>\n",
       "    </tr>\n",
       "  </thead>\n",
       "  <tbody>\n",
       "    <tr>\n",
       "      <th>260322</th>\n",
       "      <td>-2.574043</td>\n",
       "      <td>-1.791565</td>\n",
       "      <td>2.320170</td>\n",
       "      <td>-2.034457</td>\n",
       "      <td>0.113439</td>\n",
       "      <td>-0.286806</td>\n",
       "      <td>-1.223947</td>\n",
       "      <td>-0.531313</td>\n",
       "      <td>-0.492569</td>\n",
       "      <td>0.040578</td>\n",
       "      <td>...</td>\n",
       "      <td>1.134865</td>\n",
       "      <td>0.936232</td>\n",
       "      <td>-0.324260</td>\n",
       "      <td>0.822857</td>\n",
       "      <td>0.011852</td>\n",
       "      <td>0.365446</td>\n",
       "      <td>-0.176769</td>\n",
       "      <td>0</td>\n",
       "      <td>-0.376629</td>\n",
       "      <td>1.495426</td>\n",
       "    </tr>\n",
       "    <tr>\n",
       "      <th>89773</th>\n",
       "      <td>-1.290449</td>\n",
       "      <td>1.289952</td>\n",
       "      <td>1.983024</td>\n",
       "      <td>0.399587</td>\n",
       "      <td>0.261020</td>\n",
       "      <td>-0.269042</td>\n",
       "      <td>-0.902256</td>\n",
       "      <td>-2.933331</td>\n",
       "      <td>-0.498935</td>\n",
       "      <td>0.318234</td>\n",
       "      <td>...</td>\n",
       "      <td>-0.250292</td>\n",
       "      <td>-0.856076</td>\n",
       "      <td>0.526904</td>\n",
       "      <td>-0.402730</td>\n",
       "      <td>0.147978</td>\n",
       "      <td>-0.310226</td>\n",
       "      <td>-0.260582</td>\n",
       "      <td>0</td>\n",
       "      <td>-0.368413</td>\n",
       "      <td>-0.533325</td>\n",
       "    </tr>\n",
       "    <tr>\n",
       "      <th>98999</th>\n",
       "      <td>1.479118</td>\n",
       "      <td>-0.802927</td>\n",
       "      <td>0.251049</td>\n",
       "      <td>-1.420287</td>\n",
       "      <td>-1.271145</td>\n",
       "      <td>-1.045146</td>\n",
       "      <td>-0.621939</td>\n",
       "      <td>-0.239740</td>\n",
       "      <td>-2.468087</td>\n",
       "      <td>1.596821</td>\n",
       "      <td>...</td>\n",
       "      <td>-1.114402</td>\n",
       "      <td>0.216334</td>\n",
       "      <td>0.472919</td>\n",
       "      <td>0.193382</td>\n",
       "      <td>-0.559728</td>\n",
       "      <td>0.008691</td>\n",
       "      <td>0.012282</td>\n",
       "      <td>0</td>\n",
       "      <td>-0.349943</td>\n",
       "      <td>-0.445349</td>\n",
       "    </tr>\n",
       "    <tr>\n",
       "      <th>96378</th>\n",
       "      <td>1.227716</td>\n",
       "      <td>-0.150021</td>\n",
       "      <td>-0.898214</td>\n",
       "      <td>0.319432</td>\n",
       "      <td>1.971917</td>\n",
       "      <td>3.813593</td>\n",
       "      <td>-0.666014</td>\n",
       "      <td>0.935136</td>\n",
       "      <td>0.414686</td>\n",
       "      <td>-0.064957</td>\n",
       "      <td>...</td>\n",
       "      <td>-0.297202</td>\n",
       "      <td>-0.144492</td>\n",
       "      <td>1.019098</td>\n",
       "      <td>0.857412</td>\n",
       "      <td>-0.284083</td>\n",
       "      <td>0.040500</td>\n",
       "      <td>0.017910</td>\n",
       "      <td>0</td>\n",
       "      <td>-0.346090</td>\n",
       "      <td>-0.469853</td>\n",
       "    </tr>\n",
       "    <tr>\n",
       "      <th>224670</th>\n",
       "      <td>1.892835</td>\n",
       "      <td>-0.497683</td>\n",
       "      <td>-1.548864</td>\n",
       "      <td>0.053924</td>\n",
       "      <td>0.338612</td>\n",
       "      <td>-0.149827</td>\n",
       "      <td>0.203976</td>\n",
       "      <td>-0.244705</td>\n",
       "      <td>0.899907</td>\n",
       "      <td>-0.309124</td>\n",
       "      <td>...</td>\n",
       "      <td>-0.348725</td>\n",
       "      <td>0.044107</td>\n",
       "      <td>0.090694</td>\n",
       "      <td>0.062800</td>\n",
       "      <td>-0.095132</td>\n",
       "      <td>-0.041717</td>\n",
       "      <td>-0.033999</td>\n",
       "      <td>0</td>\n",
       "      <td>0.015150</td>\n",
       "      <td>1.168634</td>\n",
       "    </tr>\n",
       "  </tbody>\n",
       "</table>\n",
       "<p>5 rows × 31 columns</p>\n",
       "</div>"
      ],
      "text/plain": [
       "              V1        V2        V3        V4        V5        V6        V7  \\\n",
       "260322 -2.574043 -1.791565  2.320170 -2.034457  0.113439 -0.286806 -1.223947   \n",
       "89773  -1.290449  1.289952  1.983024  0.399587  0.261020 -0.269042 -0.902256   \n",
       "98999   1.479118 -0.802927  0.251049 -1.420287 -1.271145 -1.045146 -0.621939   \n",
       "96378   1.227716 -0.150021 -0.898214  0.319432  1.971917  3.813593 -0.666014   \n",
       "224670  1.892835 -0.497683 -1.548864  0.053924  0.338612 -0.149827  0.203976   \n",
       "\n",
       "              V8        V9       V10  ...       V22       V23       V24  \\\n",
       "260322 -0.531313 -0.492569  0.040578  ...  1.134865  0.936232 -0.324260   \n",
       "89773  -2.933331 -0.498935  0.318234  ... -0.250292 -0.856076  0.526904   \n",
       "98999  -0.239740 -2.468087  1.596821  ... -1.114402  0.216334  0.472919   \n",
       "96378   0.935136  0.414686 -0.064957  ... -0.297202 -0.144492  1.019098   \n",
       "224670 -0.244705  0.899907 -0.309124  ... -0.348725  0.044107  0.090694   \n",
       "\n",
       "             V25       V26       V27       V28  Class  scaled_amount  \\\n",
       "260322  0.822857  0.011852  0.365446 -0.176769      0      -0.376629   \n",
       "89773  -0.402730  0.147978 -0.310226 -0.260582      0      -0.368413   \n",
       "98999   0.193382 -0.559728  0.008691  0.012282      0      -0.349943   \n",
       "96378   0.857412 -0.284083  0.040500  0.017910      0      -0.346090   \n",
       "224670  0.062800 -0.095132 -0.041717 -0.033999      0       0.015150   \n",
       "\n",
       "        scaled_time  \n",
       "260322     1.495426  \n",
       "89773     -0.533325  \n",
       "98999     -0.445349  \n",
       "96378     -0.469853  \n",
       "224670     1.168634  \n",
       "\n",
       "[5 rows x 31 columns]"
      ]
     },
     "execution_count": 24,
     "metadata": {},
     "output_type": "execute_result"
    }
   ],
   "source": [
    "b_df.head()"
   ]
  },
  {
   "cell_type": "markdown",
   "id": "ce5ebf31",
   "metadata": {},
   "source": []
  },
  {
   "cell_type": "markdown",
   "id": "d0ead10b",
   "metadata": {},
   "source": [
    "<h1>Feature Engineering</h1>\n"
   ]
  },
  {
   "cell_type": "code",
   "execution_count": 25,
   "id": "9275b805",
   "metadata": {},
   "outputs": [],
   "source": [
    "FEATURES = [col for col in b_df.columns if col not in ['Class']]\n",
    "b_df[\"mean\"] = b_df[FEATURES].mean(axis=1)\n",
    "b_df[\"std\"] = b_df[FEATURES].std(axis=1)\n",
    "b_df[\"min\"] = b_df[FEATURES].min(axis=1)\n",
    "b_df[\"max\"] = b_df[FEATURES].max(axis=1)"
   ]
  },
  {
   "cell_type": "code",
   "execution_count": 26,
   "id": "fd384693",
   "metadata": {},
   "outputs": [],
   "source": [
    "#Assign Feature and Target variables"
   ]
  },
  {
   "cell_type": "code",
   "execution_count": 27,
   "id": "4494952d",
   "metadata": {},
   "outputs": [],
   "source": [
    "X = b_df.drop('Class', axis=1)\n",
    "y = b_df.Class"
   ]
  },
  {
   "cell_type": "code",
   "execution_count": 28,
   "id": "b2aed16c",
   "metadata": {},
   "outputs": [
    {
     "data": {
      "text/html": [
       "<div>\n",
       "<style scoped>\n",
       "    .dataframe tbody tr th:only-of-type {\n",
       "        vertical-align: middle;\n",
       "    }\n",
       "\n",
       "    .dataframe tbody tr th {\n",
       "        vertical-align: top;\n",
       "    }\n",
       "\n",
       "    .dataframe thead th {\n",
       "        text-align: right;\n",
       "    }\n",
       "</style>\n",
       "<table border=\"1\" class=\"dataframe\">\n",
       "  <thead>\n",
       "    <tr style=\"text-align: right;\">\n",
       "      <th></th>\n",
       "      <th>V1</th>\n",
       "      <th>V2</th>\n",
       "      <th>V3</th>\n",
       "      <th>V4</th>\n",
       "      <th>V5</th>\n",
       "      <th>V6</th>\n",
       "      <th>V7</th>\n",
       "      <th>V8</th>\n",
       "      <th>V9</th>\n",
       "      <th>V10</th>\n",
       "      <th>...</th>\n",
       "      <th>V26</th>\n",
       "      <th>V27</th>\n",
       "      <th>V28</th>\n",
       "      <th>Class</th>\n",
       "      <th>scaled_amount</th>\n",
       "      <th>scaled_time</th>\n",
       "      <th>mean</th>\n",
       "      <th>std</th>\n",
       "      <th>min</th>\n",
       "      <th>max</th>\n",
       "    </tr>\n",
       "  </thead>\n",
       "  <tbody>\n",
       "    <tr>\n",
       "      <th>260322</th>\n",
       "      <td>-2.574043</td>\n",
       "      <td>-1.791565</td>\n",
       "      <td>2.320170</td>\n",
       "      <td>-2.034457</td>\n",
       "      <td>0.113439</td>\n",
       "      <td>-0.286806</td>\n",
       "      <td>-1.223947</td>\n",
       "      <td>-0.531313</td>\n",
       "      <td>-0.492569</td>\n",
       "      <td>0.040578</td>\n",
       "      <td>...</td>\n",
       "      <td>0.011852</td>\n",
       "      <td>0.365446</td>\n",
       "      <td>-0.176769</td>\n",
       "      <td>0</td>\n",
       "      <td>-0.376629</td>\n",
       "      <td>1.495426</td>\n",
       "      <td>-0.041400</td>\n",
       "      <td>1.111630</td>\n",
       "      <td>-2.574043</td>\n",
       "      <td>2.354844</td>\n",
       "    </tr>\n",
       "    <tr>\n",
       "      <th>89773</th>\n",
       "      <td>-1.290449</td>\n",
       "      <td>1.289952</td>\n",
       "      <td>1.983024</td>\n",
       "      <td>0.399587</td>\n",
       "      <td>0.261020</td>\n",
       "      <td>-0.269042</td>\n",
       "      <td>-0.902256</td>\n",
       "      <td>-2.933331</td>\n",
       "      <td>-0.498935</td>\n",
       "      <td>0.318234</td>\n",
       "      <td>...</td>\n",
       "      <td>0.147978</td>\n",
       "      <td>-0.310226</td>\n",
       "      <td>-0.260582</td>\n",
       "      <td>0</td>\n",
       "      <td>-0.368413</td>\n",
       "      <td>-0.533325</td>\n",
       "      <td>-0.060656</td>\n",
       "      <td>1.002647</td>\n",
       "      <td>-2.933331</td>\n",
       "      <td>1.983024</td>\n",
       "    </tr>\n",
       "    <tr>\n",
       "      <th>98999</th>\n",
       "      <td>1.479118</td>\n",
       "      <td>-0.802927</td>\n",
       "      <td>0.251049</td>\n",
       "      <td>-1.420287</td>\n",
       "      <td>-1.271145</td>\n",
       "      <td>-1.045146</td>\n",
       "      <td>-0.621939</td>\n",
       "      <td>-0.239740</td>\n",
       "      <td>-2.468087</td>\n",
       "      <td>1.596821</td>\n",
       "      <td>...</td>\n",
       "      <td>-0.559728</td>\n",
       "      <td>0.008691</td>\n",
       "      <td>0.012282</td>\n",
       "      <td>0</td>\n",
       "      <td>-0.349943</td>\n",
       "      <td>-0.445349</td>\n",
       "      <td>-0.158652</td>\n",
       "      <td>0.875355</td>\n",
       "      <td>-2.468087</td>\n",
       "      <td>1.596821</td>\n",
       "    </tr>\n",
       "    <tr>\n",
       "      <th>96378</th>\n",
       "      <td>1.227716</td>\n",
       "      <td>-0.150021</td>\n",
       "      <td>-0.898214</td>\n",
       "      <td>0.319432</td>\n",
       "      <td>1.971917</td>\n",
       "      <td>3.813593</td>\n",
       "      <td>-0.666014</td>\n",
       "      <td>0.935136</td>\n",
       "      <td>0.414686</td>\n",
       "      <td>-0.064957</td>\n",
       "      <td>...</td>\n",
       "      <td>-0.284083</td>\n",
       "      <td>0.040500</td>\n",
       "      <td>0.017910</td>\n",
       "      <td>0</td>\n",
       "      <td>-0.346090</td>\n",
       "      <td>-0.469853</td>\n",
       "      <td>0.205895</td>\n",
       "      <td>0.916740</td>\n",
       "      <td>-0.898214</td>\n",
       "      <td>3.813593</td>\n",
       "    </tr>\n",
       "    <tr>\n",
       "      <th>224670</th>\n",
       "      <td>1.892835</td>\n",
       "      <td>-0.497683</td>\n",
       "      <td>-1.548864</td>\n",
       "      <td>0.053924</td>\n",
       "      <td>0.338612</td>\n",
       "      <td>-0.149827</td>\n",
       "      <td>0.203976</td>\n",
       "      <td>-0.244705</td>\n",
       "      <td>0.899907</td>\n",
       "      <td>-0.309124</td>\n",
       "      <td>...</td>\n",
       "      <td>-0.095132</td>\n",
       "      <td>-0.041717</td>\n",
       "      <td>-0.033999</td>\n",
       "      <td>0</td>\n",
       "      <td>0.015150</td>\n",
       "      <td>1.168634</td>\n",
       "      <td>0.047206</td>\n",
       "      <td>0.728629</td>\n",
       "      <td>-1.548864</td>\n",
       "      <td>1.892835</td>\n",
       "    </tr>\n",
       "  </tbody>\n",
       "</table>\n",
       "<p>5 rows × 35 columns</p>\n",
       "</div>"
      ],
      "text/plain": [
       "              V1        V2        V3        V4        V5        V6        V7  \\\n",
       "260322 -2.574043 -1.791565  2.320170 -2.034457  0.113439 -0.286806 -1.223947   \n",
       "89773  -1.290449  1.289952  1.983024  0.399587  0.261020 -0.269042 -0.902256   \n",
       "98999   1.479118 -0.802927  0.251049 -1.420287 -1.271145 -1.045146 -0.621939   \n",
       "96378   1.227716 -0.150021 -0.898214  0.319432  1.971917  3.813593 -0.666014   \n",
       "224670  1.892835 -0.497683 -1.548864  0.053924  0.338612 -0.149827  0.203976   \n",
       "\n",
       "              V8        V9       V10  ...       V26       V27       V28  \\\n",
       "260322 -0.531313 -0.492569  0.040578  ...  0.011852  0.365446 -0.176769   \n",
       "89773  -2.933331 -0.498935  0.318234  ...  0.147978 -0.310226 -0.260582   \n",
       "98999  -0.239740 -2.468087  1.596821  ... -0.559728  0.008691  0.012282   \n",
       "96378   0.935136  0.414686 -0.064957  ... -0.284083  0.040500  0.017910   \n",
       "224670 -0.244705  0.899907 -0.309124  ... -0.095132 -0.041717 -0.033999   \n",
       "\n",
       "        Class  scaled_amount  scaled_time      mean       std       min  \\\n",
       "260322      0      -0.376629     1.495426 -0.041400  1.111630 -2.574043   \n",
       "89773       0      -0.368413    -0.533325 -0.060656  1.002647 -2.933331   \n",
       "98999       0      -0.349943    -0.445349 -0.158652  0.875355 -2.468087   \n",
       "96378       0      -0.346090    -0.469853  0.205895  0.916740 -0.898214   \n",
       "224670      0       0.015150     1.168634  0.047206  0.728629 -1.548864   \n",
       "\n",
       "             max  \n",
       "260322  2.354844  \n",
       "89773   1.983024  \n",
       "98999   1.596821  \n",
       "96378   3.813593  \n",
       "224670  1.892835  \n",
       "\n",
       "[5 rows x 35 columns]"
      ]
     },
     "execution_count": 28,
     "metadata": {},
     "output_type": "execute_result"
    }
   ],
   "source": [
    "b_df.head()\n"
   ]
  },
  {
   "cell_type": "code",
   "execution_count": 29,
   "id": "a3cc36fc",
   "metadata": {},
   "outputs": [
    {
     "data": {
      "text/html": [
       "<div>\n",
       "<style scoped>\n",
       "    .dataframe tbody tr th:only-of-type {\n",
       "        vertical-align: middle;\n",
       "    }\n",
       "\n",
       "    .dataframe tbody tr th {\n",
       "        vertical-align: top;\n",
       "    }\n",
       "\n",
       "    .dataframe thead th {\n",
       "        text-align: right;\n",
       "    }\n",
       "</style>\n",
       "<table border=\"1\" class=\"dataframe\">\n",
       "  <thead>\n",
       "    <tr style=\"text-align: right;\">\n",
       "      <th></th>\n",
       "      <th>V1</th>\n",
       "      <th>V2</th>\n",
       "      <th>V3</th>\n",
       "      <th>V4</th>\n",
       "      <th>V5</th>\n",
       "      <th>V6</th>\n",
       "      <th>V7</th>\n",
       "      <th>V8</th>\n",
       "      <th>V9</th>\n",
       "      <th>V10</th>\n",
       "      <th>...</th>\n",
       "      <th>V25</th>\n",
       "      <th>V26</th>\n",
       "      <th>V27</th>\n",
       "      <th>V28</th>\n",
       "      <th>scaled_amount</th>\n",
       "      <th>scaled_time</th>\n",
       "      <th>mean</th>\n",
       "      <th>std</th>\n",
       "      <th>min</th>\n",
       "      <th>max</th>\n",
       "    </tr>\n",
       "  </thead>\n",
       "  <tbody>\n",
       "    <tr>\n",
       "      <th>260322</th>\n",
       "      <td>-2.574043</td>\n",
       "      <td>-1.791565</td>\n",
       "      <td>2.320170</td>\n",
       "      <td>-2.034457</td>\n",
       "      <td>0.113439</td>\n",
       "      <td>-0.286806</td>\n",
       "      <td>-1.223947</td>\n",
       "      <td>-0.531313</td>\n",
       "      <td>-0.492569</td>\n",
       "      <td>0.040578</td>\n",
       "      <td>...</td>\n",
       "      <td>0.822857</td>\n",
       "      <td>0.011852</td>\n",
       "      <td>0.365446</td>\n",
       "      <td>-0.176769</td>\n",
       "      <td>-0.376629</td>\n",
       "      <td>1.495426</td>\n",
       "      <td>-0.041400</td>\n",
       "      <td>1.111630</td>\n",
       "      <td>-2.574043</td>\n",
       "      <td>2.354844</td>\n",
       "    </tr>\n",
       "    <tr>\n",
       "      <th>89773</th>\n",
       "      <td>-1.290449</td>\n",
       "      <td>1.289952</td>\n",
       "      <td>1.983024</td>\n",
       "      <td>0.399587</td>\n",
       "      <td>0.261020</td>\n",
       "      <td>-0.269042</td>\n",
       "      <td>-0.902256</td>\n",
       "      <td>-2.933331</td>\n",
       "      <td>-0.498935</td>\n",
       "      <td>0.318234</td>\n",
       "      <td>...</td>\n",
       "      <td>-0.402730</td>\n",
       "      <td>0.147978</td>\n",
       "      <td>-0.310226</td>\n",
       "      <td>-0.260582</td>\n",
       "      <td>-0.368413</td>\n",
       "      <td>-0.533325</td>\n",
       "      <td>-0.060656</td>\n",
       "      <td>1.002647</td>\n",
       "      <td>-2.933331</td>\n",
       "      <td>1.983024</td>\n",
       "    </tr>\n",
       "    <tr>\n",
       "      <th>98999</th>\n",
       "      <td>1.479118</td>\n",
       "      <td>-0.802927</td>\n",
       "      <td>0.251049</td>\n",
       "      <td>-1.420287</td>\n",
       "      <td>-1.271145</td>\n",
       "      <td>-1.045146</td>\n",
       "      <td>-0.621939</td>\n",
       "      <td>-0.239740</td>\n",
       "      <td>-2.468087</td>\n",
       "      <td>1.596821</td>\n",
       "      <td>...</td>\n",
       "      <td>0.193382</td>\n",
       "      <td>-0.559728</td>\n",
       "      <td>0.008691</td>\n",
       "      <td>0.012282</td>\n",
       "      <td>-0.349943</td>\n",
       "      <td>-0.445349</td>\n",
       "      <td>-0.158652</td>\n",
       "      <td>0.875355</td>\n",
       "      <td>-2.468087</td>\n",
       "      <td>1.596821</td>\n",
       "    </tr>\n",
       "    <tr>\n",
       "      <th>96378</th>\n",
       "      <td>1.227716</td>\n",
       "      <td>-0.150021</td>\n",
       "      <td>-0.898214</td>\n",
       "      <td>0.319432</td>\n",
       "      <td>1.971917</td>\n",
       "      <td>3.813593</td>\n",
       "      <td>-0.666014</td>\n",
       "      <td>0.935136</td>\n",
       "      <td>0.414686</td>\n",
       "      <td>-0.064957</td>\n",
       "      <td>...</td>\n",
       "      <td>0.857412</td>\n",
       "      <td>-0.284083</td>\n",
       "      <td>0.040500</td>\n",
       "      <td>0.017910</td>\n",
       "      <td>-0.346090</td>\n",
       "      <td>-0.469853</td>\n",
       "      <td>0.205895</td>\n",
       "      <td>0.916740</td>\n",
       "      <td>-0.898214</td>\n",
       "      <td>3.813593</td>\n",
       "    </tr>\n",
       "    <tr>\n",
       "      <th>224670</th>\n",
       "      <td>1.892835</td>\n",
       "      <td>-0.497683</td>\n",
       "      <td>-1.548864</td>\n",
       "      <td>0.053924</td>\n",
       "      <td>0.338612</td>\n",
       "      <td>-0.149827</td>\n",
       "      <td>0.203976</td>\n",
       "      <td>-0.244705</td>\n",
       "      <td>0.899907</td>\n",
       "      <td>-0.309124</td>\n",
       "      <td>...</td>\n",
       "      <td>0.062800</td>\n",
       "      <td>-0.095132</td>\n",
       "      <td>-0.041717</td>\n",
       "      <td>-0.033999</td>\n",
       "      <td>0.015150</td>\n",
       "      <td>1.168634</td>\n",
       "      <td>0.047206</td>\n",
       "      <td>0.728629</td>\n",
       "      <td>-1.548864</td>\n",
       "      <td>1.892835</td>\n",
       "    </tr>\n",
       "  </tbody>\n",
       "</table>\n",
       "<p>5 rows × 34 columns</p>\n",
       "</div>"
      ],
      "text/plain": [
       "              V1        V2        V3        V4        V5        V6        V7  \\\n",
       "260322 -2.574043 -1.791565  2.320170 -2.034457  0.113439 -0.286806 -1.223947   \n",
       "89773  -1.290449  1.289952  1.983024  0.399587  0.261020 -0.269042 -0.902256   \n",
       "98999   1.479118 -0.802927  0.251049 -1.420287 -1.271145 -1.045146 -0.621939   \n",
       "96378   1.227716 -0.150021 -0.898214  0.319432  1.971917  3.813593 -0.666014   \n",
       "224670  1.892835 -0.497683 -1.548864  0.053924  0.338612 -0.149827  0.203976   \n",
       "\n",
       "              V8        V9       V10  ...       V25       V26       V27  \\\n",
       "260322 -0.531313 -0.492569  0.040578  ...  0.822857  0.011852  0.365446   \n",
       "89773  -2.933331 -0.498935  0.318234  ... -0.402730  0.147978 -0.310226   \n",
       "98999  -0.239740 -2.468087  1.596821  ...  0.193382 -0.559728  0.008691   \n",
       "96378   0.935136  0.414686 -0.064957  ...  0.857412 -0.284083  0.040500   \n",
       "224670 -0.244705  0.899907 -0.309124  ...  0.062800 -0.095132 -0.041717   \n",
       "\n",
       "             V28  scaled_amount  scaled_time      mean       std       min  \\\n",
       "260322 -0.176769      -0.376629     1.495426 -0.041400  1.111630 -2.574043   \n",
       "89773  -0.260582      -0.368413    -0.533325 -0.060656  1.002647 -2.933331   \n",
       "98999   0.012282      -0.349943    -0.445349 -0.158652  0.875355 -2.468087   \n",
       "96378   0.017910      -0.346090    -0.469853  0.205895  0.916740 -0.898214   \n",
       "224670 -0.033999       0.015150     1.168634  0.047206  0.728629 -1.548864   \n",
       "\n",
       "             max  \n",
       "260322  2.354844  \n",
       "89773   1.983024  \n",
       "98999   1.596821  \n",
       "96378   3.813593  \n",
       "224670  1.892835  \n",
       "\n",
       "[5 rows x 34 columns]"
      ]
     },
     "execution_count": 29,
     "metadata": {},
     "output_type": "execute_result"
    }
   ],
   "source": [
    "X.head()"
   ]
  },
  {
   "cell_type": "code",
   "execution_count": 30,
   "id": "50e820f1",
   "metadata": {},
   "outputs": [
    {
     "data": {
      "text/plain": [
       "260322    0\n",
       "89773     0\n",
       "98999     0\n",
       "96378     0\n",
       "224670    0\n",
       "Name: Class, dtype: int64"
      ]
     },
     "execution_count": 30,
     "metadata": {},
     "output_type": "execute_result"
    }
   ],
   "source": [
    "y.head()"
   ]
  },
  {
   "cell_type": "code",
   "execution_count": 31,
   "id": "04982677",
   "metadata": {},
   "outputs": [],
   "source": [
    "X_train, X_test, y_train, y_test = train_test_split(X, y, test_size=0.25, random_state=11)"
   ]
  },
  {
   "cell_type": "code",
   "execution_count": 32,
   "id": "74dea4df",
   "metadata": {},
   "outputs": [
    {
     "name": "stdout",
     "output_type": "stream",
     "text": [
      "We have 720 Training data\n",
      "We have 240 Testing data\n"
     ]
    }
   ],
   "source": [
    "print(f\"We have {len(X_train)} Training data\\nWe have {len(X_test)} Testing data\")\n"
   ]
  },
  {
   "cell_type": "markdown",
   "id": "dc8a71ca",
   "metadata": {},
   "source": [
    "<h1> Modeling </h1>"
   ]
  },
  {
   "cell_type": "code",
   "execution_count": 33,
   "id": "85c775ae",
   "metadata": {},
   "outputs": [],
   "source": [
    "def kfolds(model, model_name):\n",
    "    model = cross_val_score(model, X,y, cv=10)\n",
    "    model_score = np.average(model)\n",
    "    print(f\"{model_name} score on cross validation: {model_score * 100}%\")\n",
    "\n",
    "def train(model, model_name):\n",
    "    model.fit(X_train, y_train)\n",
    "    model_train_score = model.score(X_train, y_train)\n",
    "    model_test_score = model.score(X_test, y_test)\n",
    "    print(f\"{model_name} model score on Training data: {model_train_score * 100}%\\n{model_name} model score on Testing data: {model_test_score * 100}%\")\n",
    "\n",
    "def conf_matrix(model):\n",
    "    y_pred = model.predict(X_test)\n",
    "    cm = confusion_matrix(y_test, y_pred)\n",
    "    plt.figure(figsize=(8,5))\n",
    "    sns.heatmap(cm, annot=True, fmt='d');\n",
    "    \n",
    "def class_report(model):\n",
    "    y_pred = model.predict(X_test)\n",
    "    print(classification_report(y_test, y_pred))\n",
    "    \n",
    "def roc(model, model_name):\n",
    "    y_pred = model.decision_function(X_test)\n",
    "    fpr, tpr, _ = roc_curve(y_test, y_pred)\n",
    "    auc_svm = auc(fpr, tpr)\n",
    "    plt.figure(figsize=(5, 5), dpi=100)\n",
    "    plt.plot(fpr, tpr, color=\"darkorange\", label=f'{model_name} (auc = %0.3f)' % auc_svm)\n",
    "    plt.plot([0, 1], [0, 1], color=\"navy\", lw=2, linestyle=\"--\")\n",
    "    plt.xlabel('False Positive Rate -->')\n",
    "    plt.ylabel('True Positive Rate -->')\n",
    "    plt.legend()\n",
    "    plt.show()\n",
    "def save(model, model_name):\n",
    "    joblib.dump(model, model_name)\n",
    "    print(\"Model Saved Succesfully\")"
   ]
  },
  {
   "cell_type": "markdown",
   "id": "c4d0383d",
   "metadata": {},
   "source": [
    "<h1>Logistic Regression <h1>\n"
   ]
  },
  {
   "cell_type": "code",
   "execution_count": 34,
   "id": "eb89cafd",
   "metadata": {},
   "outputs": [
    {
     "name": "stdout",
     "output_type": "stream",
     "text": [
      "Logistic Regression score on cross validation: 94.0625%\n",
      "Logistic Regression model score on Training data: 95.97222222222223%\n",
      "Logistic Regression model score on Testing data: 93.75%\n"
     ]
    }
   ],
   "source": [
    "lr_model = LogisticRegression()\n",
    "kfolds(lr_model, \"Logistic Regression\")\n",
    "train(lr_model, \"Logistic Regression\")"
   ]
  },
  {
   "cell_type": "code",
   "execution_count": 35,
   "id": "460cc224",
   "metadata": {},
   "outputs": [
    {
     "data": {
      "image/png": "[encoded data removed]",
      "text/plain": [
       "<Figure size 500x500 with 1 Axes>"
      ]
     },
     "metadata": {
      "needs_background": "light"
     },
     "output_type": "display_data"
    }
   ],
   "source": [
    "roc(lr_model, \"Logistic Regression\")"
   ]
  },
  {
   "cell_type": "markdown",
   "id": "58660fd4",
   "metadata": {},
   "source": [
    "<h1>Random Forest</h1>\n"
   ]
  },
  {
   "cell_type": "code",
   "execution_count": 36,
   "id": "49d77e5b",
   "metadata": {},
   "outputs": [
    {
     "name": "stdout",
     "output_type": "stream",
     "text": [
      "Random Forest score on cross validation: 93.22916666666667%\n",
      "Random Forest model score on Training data: 100.0%\n",
      "Random Forest model score on Testing data: 93.75%\n"
     ]
    }
   ],
   "source": [
    "rf_model = RandomForestClassifier(n_estimators=70, random_state=40)\n",
    "kfolds(rf_model, \"Random Forest\")\n",
    "train(rf_model, \"Random Forest\")"
   ]
  },
  {
   "cell_type": "code",
   "execution_count": 37,
   "id": "7ea4b2e3",
   "metadata": {},
   "outputs": [
    {
     "data": {
      "image/png": "[encoded data removed]",
      "text/plain": [
       "<Figure size 576x360 with 2 Axes>"
      ]
     },
     "metadata": {
      "needs_background": "light"
     },
     "output_type": "display_data"
    }
   ],
   "source": [
    "conf_matrix(rf_model)"
   ]
  },
  {
   "cell_type": "code",
   "execution_count": 38,
   "id": "82e38fb4",
   "metadata": {},
   "outputs": [
    {
     "name": "stdout",
     "output_type": "stream",
     "text": [
      "              precision    recall  f1-score   support\n",
      "\n",
      "           0       0.92      0.97      0.94       125\n",
      "           1       0.96      0.90      0.93       115\n",
      "\n",
      "    accuracy                           0.94       240\n",
      "   macro avg       0.94      0.94      0.94       240\n",
      "weighted avg       0.94      0.94      0.94       240\n",
      "\n"
     ]
    }
   ],
   "source": [
    "class_report(rf_model)\n"
   ]
  },
  {
   "cell_type": "markdown",
   "id": "6286d759",
   "metadata": {},
   "source": [
    "<h1>KNN</h1>"
   ]
  },
  {
   "cell_type": "code",
   "execution_count": 39,
   "id": "7ff4a6f6",
   "metadata": {},
   "outputs": [
    {
     "name": "stdout",
     "output_type": "stream",
     "text": [
      "KNN score on cross validation: 93.54166666666669%\n",
      "KNN model score on Training data: 95.13888888888889%\n",
      "KNN model score on Testing data: 94.58333333333333%\n"
     ]
    }
   ],
   "source": [
    "knn_model = KNeighborsClassifier(n_neighbors=3)\n",
    "kfolds(knn_model, \"KNN\")\n",
    "train(knn_model, \"KNN\")"
   ]
  },
  {
   "cell_type": "code",
   "execution_count": 40,
   "id": "6076c311",
   "metadata": {},
   "outputs": [
    {
     "data": {
      "image/png": "[encoded data removed]",
      "text/plain": [
       "<Figure size 576x360 with 2 Axes>"
      ]
     },
     "metadata": {
      "needs_background": "light"
     },
     "output_type": "display_data"
    }
   ],
   "source": [
    "conf_matrix(knn_model)\n"
   ]
  },
  {
   "cell_type": "code",
   "execution_count": 41,
   "id": "0a9ea833",
   "metadata": {},
   "outputs": [
    {
     "name": "stdout",
     "output_type": "stream",
     "text": [
      "              precision    recall  f1-score   support\n",
      "\n",
      "           0       0.93      0.97      0.95       125\n",
      "           1       0.96      0.92      0.94       115\n",
      "\n",
      "    accuracy                           0.95       240\n",
      "   macro avg       0.95      0.94      0.95       240\n",
      "weighted avg       0.95      0.95      0.95       240\n",
      "\n"
     ]
    }
   ],
   "source": [
    "class_report(knn_model)\n"
   ]
  },
  {
   "cell_type": "markdown",
   "id": "6523416e",
   "metadata": {},
   "source": [
    "<h1>Decision Tree </h1>\n"
   ]
  },
  {
   "cell_type": "code",
   "execution_count": 42,
   "id": "d6c2ca9f",
   "metadata": {},
   "outputs": [
    {
     "name": "stdout",
     "output_type": "stream",
     "text": [
      "Decision Tree score on cross validation: 90.9375%\n",
      "Decision Tree model score on Training data: 100.0%\n",
      "Decision Tree model score on Testing data: 90.83333333333333%\n"
     ]
    }
   ],
   "source": [
    "dt_model = DecisionTreeClassifier()\n",
    "kfolds(dt_model, \"Decision Tree\")\n",
    "train(dt_model, \"Decision Tree\")"
   ]
  },
  {
   "cell_type": "code",
   "execution_count": 43,
   "id": "408e9742",
   "metadata": {},
   "outputs": [
    {
     "data": {
      "image/png": "[encoded data removed]",
      "text/plain": [
       "<Figure size 576x360 with 2 Axes>"
      ]
     },
     "metadata": {
      "needs_background": "light"
     },
     "output_type": "display_data"
    }
   ],
   "source": [
    "conf_matrix(dt_model)\n"
   ]
  },
  {
   "cell_type": "code",
   "execution_count": 44,
   "id": "ded7b534",
   "metadata": {},
   "outputs": [
    {
     "name": "stdout",
     "output_type": "stream",
     "text": [
      "              precision    recall  f1-score   support\n",
      "\n",
      "           0       0.91      0.92      0.91       125\n",
      "           1       0.91      0.90      0.90       115\n",
      "\n",
      "    accuracy                           0.91       240\n",
      "   macro avg       0.91      0.91      0.91       240\n",
      "weighted avg       0.91      0.91      0.91       240\n",
      "\n"
     ]
    }
   ],
   "source": [
    "class_report(dt_model)\n"
   ]
  },
  {
   "cell_type": "markdown",
   "id": "3cf44cc3",
   "metadata": {},
   "source": [
    "<h1> SVM </h1>"
   ]
  },
  {
   "cell_type": "code",
   "execution_count": 45,
   "id": "efaf8dbb",
   "metadata": {},
   "outputs": [
    {
     "name": "stdout",
     "output_type": "stream",
     "text": [
      "SVM score on cross validation: 93.75%\n",
      "SVM model score on Training data: 96.25%\n",
      "SVM model score on Testing data: 93.33333333333333%\n"
     ]
    }
   ],
   "source": [
    "svm_model = SVC(kernel='linear', gamma='auto')\n",
    "kfolds(svm_model, \"SVM\")\n",
    "train(svm_model, \"SVM\")"
   ]
  },
  {
   "cell_type": "code",
   "execution_count": 46,
   "id": "830d1bf1",
   "metadata": {},
   "outputs": [
    {
     "data": {
      "image/png": "[encoded data removed]",
      "text/plain": [
       "<Figure size 576x360 with 2 Axes>"
      ]
     },
     "metadata": {
      "needs_background": "light"
     },
     "output_type": "display_data"
    }
   ],
   "source": [
    "conf_matrix(svm_model)"
   ]
  },
  {
   "cell_type": "code",
   "execution_count": 47,
   "id": "af0eea35",
   "metadata": {},
   "outputs": [
    {
     "name": "stdout",
     "output_type": "stream",
     "text": [
      "              precision    recall  f1-score   support\n",
      "\n",
      "           0       0.92      0.96      0.94       125\n",
      "           1       0.95      0.90      0.93       115\n",
      "\n",
      "    accuracy                           0.93       240\n",
      "   macro avg       0.94      0.93      0.93       240\n",
      "weighted avg       0.93      0.93      0.93       240\n",
      "\n"
     ]
    }
   ],
   "source": [
    "class_report(svm_model)\n"
   ]
  },
  {
   "cell_type": "code",
   "execution_count": 48,
   "id": "2c0821b0",
   "metadata": {},
   "outputs": [
    {
     "data": {
      "image/png": "[encoded data removed]",
      "text/plain": [
       "<Figure size 500x500 with 1 Axes>"
      ]
     },
     "metadata": {
      "needs_background": "light"
     },
     "output_type": "display_data"
    }
   ],
   "source": [
    "roc(svm_model, \"SVM\")\n"
   ]
  },
  {
   "cell_type": "markdown",
   "id": "675cece2",
   "metadata": {},
   "source": [
    "<h4>Logistic Regression is the best acc <h4>\n",
    "    <h2> Save the Model </h2>"
   ]
  },
  {
   "cell_type": "code",
   "execution_count": 49,
   "id": "7ac6bca1",
   "metadata": {},
   "outputs": [
    {
     "name": "stdout",
     "output_type": "stream",
     "text": [
      "Model Saved Succesfully\n"
     ]
    }
   ],
   "source": [
    "save(lr_model, \"Logistic Regression\")"
   ]
  },
  {
   "cell_type": "code",
   "execution_count": null,
   "id": "4150f000",
   "metadata": {},
   "outputs": [],
   "source": [
    "             "
   ]
  }
 ],
 "metadata": {
  "kernelspec": {
   "display_name": "Python 3 (ipykernel)",
   "language": "python",
   "name": "python3"
  },
  "language_info": {
   "codemirror_mode": {
    "name": "ipython",
    "version": 3
   },
   "file_extension": ".py",
   "mimetype": "text/x-python",
   "name": "python",
   "nbconvert_exporter": "python",
   "pygments_lexer": "ipython3",
   "version": "3.9.0"
  }
 },
 "nbformat": 4,
 "nbformat_minor": 5
}
